{
  "cells": [
    {
      "cell_type": "markdown",
      "metadata": {
        "id": "hMeHi0LGimdm"
      },
      "source": [
        "1. Faça um algoritmo para ler o valor do lado de um quadrado e mostrar sua área e perímetro."
      ]
    },
    {
      "cell_type": "code",
      "execution_count": null,
      "metadata": {
        "id": "vTcMteGOiy3p"
      },
      "outputs": [],
      "source": [
        "class Square():\n",
        "  def __init__(self,side):\n",
        "    self.side = side\n",
        "\n",
        "  def get_area_measure(self):\n",
        "    area = self.side**2\n",
        "    return(\"\\nO valor da área é de: \"+str(area)+\"m²\\n\")\n",
        "  \n",
        "  def get_perimeter_measure(self):\n",
        "    perimeter = self.side*4 \n",
        "    return(\"O valor do seu perimetro é de: \"+str(perimeter)+\"m\")\n",
        "\n",
        "square = Square(int(input(\"Qual o tamanho da face do cubo? \")))\n",
        "print(square.get_area_measure())\n",
        "print(square.get_perimeter_measure())\n"
      ]
    },
    {
      "cell_type": "markdown",
      "metadata": {
        "id": "cmFwso83k4fZ"
      },
      "source": [
        "2. Elaborar um algoritmo para ler o nome e a quatidade de filhos de uma pessoa.Mostrar a mensagem \"Fulano tem 5 filhos\""
      ]
    },
    {
      "cell_type": "code",
      "execution_count": null,
      "metadata": {
        "colab": {
          "base_uri": "https://localhost:8080/"
        },
        "id": "54jGiQ1Mk99k",
        "outputId": "86365b65-3565-45ec-bf12-44c2b04aa1b3"
      },
      "outputs": [
        {
          "name": "stdout",
          "output_type": "stream",
          "text": [
            "Quantos filhos a pessoa tem? 32\n",
            "Qual é nome do responsável? Lino\n",
            "Lino tem 32 filhos \n"
          ]
        }
      ],
      "source": [
        "class SonParent():\n",
        "  def __init__(self,sons,parent):\n",
        "    self.sons = sons\n",
        "    self.parent = parent\n",
        "\n",
        "  def get_message(self):\n",
        "    message = str(self.parent)+\" tem \"+str(self.sons)+\" filhos \"\n",
        "    return message\n",
        "\n",
        "teste = SonParent(int(input(\"Quantos filhos a pessoa tem? \")),input(\"Qual é nome do responsável? \"))\n",
        "print(teste.get_message())"
      ]
    },
    {
      "cell_type": "markdown",
      "metadata": {
        "id": "SGDfFVE7mOG4"
      },
      "source": [
        "3. Fazer um algoritmo para ler os valores da base e altura de um retângulo e mostrar seu perímetro e sua área."
      ]
    },
    {
      "cell_type": "code",
      "execution_count": null,
      "metadata": {
        "colab": {
          "base_uri": "https://localhost:8080/"
        },
        "id": "vIOB0QDdmVEE",
        "outputId": "dd87e2f3-356f-4ba2-ce70-69bd0f1b9dbc"
      },
      "outputs": [
        {
          "name": "stdout",
          "output_type": "stream",
          "text": [
            "Qual é o valor da base? 23\n",
            "Qual é o valor da altura? 2\n",
            "O valor da área é de: 46m²\n",
            "O valor do perímetro é de 50m\n"
          ]
        }
      ],
      "source": [
        "class Rectangle():\n",
        "  def __init__(self,height,width):\n",
        "    self.height = height\n",
        "    self.width = width\n",
        "  \n",
        "  def get_area_measure(self):\n",
        "    area = self.height * self.width\n",
        "    return \"O valor da área é de: \"+ str(area)+\"m²\"\n",
        "\n",
        "  def get_perimeter_measure(self):\n",
        "    perimeter = 2*(self.height+self.width)\n",
        "    return \"O valor do perímetro é de \"+ str(perimeter)+\"m\"\n",
        "\n",
        "rectangle = Rectangle(int(input(\"Qual é o valor da base? \")),int(input(\"Qual é o valor da altura? \")))\n",
        "print(rectangle.get_area_measure())\n",
        "print(rectangle.get_perimeter_measure())"
      ]
    },
    {
      "cell_type": "markdown",
      "metadata": {
        "id": "bRyvpcYUoC8y"
      },
      "source": [
        "4. Fazer um algoritmo para ler do lado de um cubo e mostrar sua área e seu volume:\n"
      ]
    },
    {
      "cell_type": "code",
      "execution_count": null,
      "metadata": {
        "colab": {
          "base_uri": "https://localhost:8080/"
        },
        "id": "DyNd6VF6oCQy",
        "outputId": "476d3216-6546-4ee8-f8d9-7c6575a4800b"
      },
      "outputs": [
        {
          "name": "stdout",
          "output_type": "stream",
          "text": [
            "Qual é o valor do lado? 2\n",
            "O valor da área é de: 24m² \n",
            "O valor do volume é de: 8m³\n"
          ]
        }
      ],
      "source": [
        "class Cube():\n",
        "  def __init__(self,side):\n",
        "    self.side = side\n",
        "\n",
        "  def get_area_measure(self):\n",
        "    self.area = 6*self.side**2\n",
        "    return \"O valor da área é de: \"+str(self.area)+\"m²\"\n",
        "  \n",
        "  def get_volume_measure(self):\n",
        "    self.volume = self.side**3\n",
        "    return \"\\nO valor do volume é de: \"+str(self.volume)+\"m³\"\n",
        "\n",
        "cube = Cube(int(input(\"Qual é o valor do lado? \")))\n",
        "print(cube.get_area_measure(),cube.get_volume_measure())"
      ]
    },
    {
      "cell_type": "markdown",
      "metadata": {
        "id": "GOTPTeNxqprt"
      },
      "source": [
        "5. Elaborar um algoritmo para ler dois número e mostrar o quociente e o resto da divisão inteira do primeiro pelo segundo"
      ]
    },
    {
      "cell_type": "code",
      "execution_count": null,
      "metadata": {
        "colab": {
          "base_uri": "https://localhost:8080/"
        },
        "id": "KUdVtq3Cq4jt",
        "outputId": "18809000-6e42-47a5-a7d7-252d6407d087"
      },
      "outputs": [
        {
          "name": "stdout",
          "output_type": "stream",
          "text": [
            "Valor de a: 20\n",
            "Valor de b: 10\n",
            "O valor da divisão inteira é: 2.0\n"
          ]
        }
      ],
      "source": [
        "class DoStuff():\n",
        "\n",
        "  def __init__(self,a,b):\n",
        "    self.a = a\n",
        "    self.b = b\n",
        "\n",
        "  def get_do_the_stuff(self):\n",
        "    stuff = self.a // self.b\n",
        "    return(\"O valor da divisão inteira é: \"+str(round(stuff,0)))\n",
        "  \n",
        "do = DoStuff(float(input(\"Valor de a: \")),float(input(\"Valor de b: \")))\n",
        "print(do.get_do_the_stuff())"
      ]
    },
    {
      "cell_type": "markdown",
      "metadata": {
        "id": "4jU6UCgHHdQY"
      },
      "source": [
        "6. Criar um algoritmo para ler a base e a altura de um triângulo e\n",
        "mostrar a sua área ( ( base x altura ) / 2 )."
      ]
    },
    {
      "cell_type": "code",
      "execution_count": null,
      "metadata": {
        "colab": {
          "base_uri": "https://localhost:8080/"
        },
        "id": "4XuwBoZ_HfmA",
        "outputId": "5a26ed3b-3afa-4e6e-ac84-2328cd0d01b4"
      },
      "outputs": [
        {
          "name": "stdout",
          "output_type": "stream",
          "text": [
            "Qual é a largura da base? 43\n",
            "Qual é a altura do triângulo? 23\n",
            "A area do triângulo é de: 494.5m²\n"
          ]
        }
      ],
      "source": [
        "class Triangle():\n",
        "\n",
        "  def __init__(self,width,height):\n",
        "    self.width = width\n",
        "    self.height = height\n",
        "\n",
        "  def area_calc(self):\n",
        "    area = (self.width*self.height)/2\n",
        "    return \"A area do triângulo é de: \"+str(area)+\"m²\"\n",
        "\n",
        "triangle = Triangle(float(input(\"Qual é a largura da base? \")),float(input(\"Qual é a altura do triângulo? \")))\n",
        "print(triangle.area_calc())"
      ]
    },
    {
      "cell_type": "markdown",
      "metadata": {
        "id": "q_5fpj0hIch0"
      },
      "source": [
        "7. Construir um algoritmo para ler o raio de uma circunferência e\n",
        "mostrar o perímetro ( 2 x π x raio ) e a área ( π x raio2). Utilize o π como constante."
      ]
    },
    {
      "cell_type": "code",
      "execution_count": null,
      "metadata": {
        "colab": {
          "base_uri": "https://localhost:8080/"
        },
        "id": "lbzayk3QIkGV",
        "outputId": "cc433629-2577-43d1-d166-2496511c44c0"
      },
      "outputs": [
        {
          "name": "stdout",
          "output_type": "stream",
          "text": [
            "Qual é o raio desse circunferência? 42\n",
            "O perímetro é de: 263.89m\n",
            "A área é de: 5541.77m²\n"
          ]
        }
      ],
      "source": [
        "import math\n",
        "\n",
        "class Circle():\n",
        "\n",
        "  def __init__(self,radius):\n",
        "    self.radius = radius\n",
        "\n",
        "  def calc_perimeter(self):\n",
        "    perimeter = round(2*math.pi*self.radius,2)\n",
        "    return \"O perímetro é de: \"+str(perimeter)+\"m\"\n",
        "  \n",
        "  def calc_area(self):\n",
        "    area = round(math.pi*self.radius**2,2)\n",
        "    return \"A área é de: \"+str(area)+\"m²\"\n",
        "\n",
        "circle = Circle(float(input(\"Qual é o raio desse circunferência? \")))\n",
        "print(circle.calc_perimeter())\n",
        "print(circle.calc_area())"
      ]
    }
  ],
  "metadata": {
    "colab": {
      "provenance": []
    },
    "kernelspec": {
      "display_name": "Python 3",
      "name": "python3"
    },
    "language_info": {
      "name": "python"
    }
  },
  "nbformat": 4,
  "nbformat_minor": 0
}
