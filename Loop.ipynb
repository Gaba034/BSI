{
  "nbformat": 4,
  "nbformat_minor": 0,
  "metadata": {
    "colab": {
      "provenance": []
    },
    "kernelspec": {
      "name": "python3",
      "display_name": "Python 3"
    },
    "language_info": {
      "name": "python"
    }
  },
  "cells": [
    {
      "cell_type": "markdown",
      "source": [
        "Faça um algoritmo que:\n",
        "* leia 20 números inteiros;\n",
        "* escreva os números que são negativos;\n",
        "* escreva a média dos números positivos."
      ],
      "metadata": {
        "id": "YPv3P0o1-LG2"
      }
    },
    {
      "cell_type": "code",
      "execution_count": null,
      "metadata": {
        "colab": {
          "base_uri": "https://localhost:8080/"
        },
        "id": "i4lX5XHz8BV2",
        "outputId": "11c6a2f7-2080-4097-b2c6-99e1266e8230"
      },
      "outputs": [
        {
          "output_type": "stream",
          "name": "stdout",
          "text": [
            "number: 32\n",
            "number: 12\n",
            "number: 42\n",
            "28.666666666666668\n"
          ]
        }
      ],
      "source": [
        "numbers = 0\n",
        "for i in range(3):\n",
        "  n = float(input(\"number: \"))\n",
        "  if n > 0:\n",
        "    numbers += n\n",
        "  if n < 0:\n",
        "    print(\"Negativo\")\n",
        "\n",
        "print(f\"A média dos números positivos é: {(numbers)/(i+1)}\")\n",
        "\n",
        "  "
      ]
    },
    {
      "cell_type": "markdown",
      "source": [
        "Faça um algoritmo que leia 15 números inteiros e escreva, para cada número lido, se é\n",
        "par ou ímpar."
      ],
      "metadata": {
        "id": "eS8KHM6S-Ses"
      }
    },
    {
      "cell_type": "code",
      "source": [
        "for i in range(3):\n",
        "\n",
        "  n = float(input(\"number: \"))\n",
        "\n",
        "  if n % 2 == 0:\n",
        "    print(\"Par\")\n",
        "  if n % 2 != 0:\n",
        "    print(\"Ímpar\")"
      ],
      "metadata": {
        "colab": {
          "base_uri": "https://localhost:8080/"
        },
        "id": "Ko3zE_I9-UUZ",
        "outputId": "27c3b014-9a7a-4d2d-ad3a-503010ac5d7c"
      },
      "execution_count": null,
      "outputs": [
        {
          "output_type": "stream",
          "name": "stdout",
          "text": [
            "number: 4\n",
            "Par\n",
            "number: 2\n",
            "Par\n",
            "number: 3\n",
            "Ímpar\n"
          ]
        }
      ]
    },
    {
      "cell_type": "markdown",
      "source": [
        "Dado um conjunto de valores inteiros positivos, determinar qual o menor e qual o\n",
        "maior valor do conjunto. Um número com valor “0” (zero) indica o fim dos dados e\n",
        "não deve ser considerado."
      ],
      "metadata": {
        "id": "RymNQVwn-syV"
      }
    },
    {
      "cell_type": "code",
      "source": [
        "loop_num = 1\n",
        "lister = [0,0]\n",
        "\n",
        "while loop_num != 0:\n",
        "  loop_num = int(input(\"number> \"))\n",
        "  if loop_num > lister[0]:\n",
        "    lister[0] = loop_num\n",
        "  if loop_num < lister[1]:\n",
        "    lister[1] = loop_num\n",
        "\n",
        "print(f\"O maior número é o: {lister[0]}\\nO menor número é o: {lister[1]}\")"
      ],
      "metadata": {
        "colab": {
          "base_uri": "https://localhost:8080/"
        },
        "id": "8SUsDZd0-slG",
        "outputId": "c9df6488-7e0a-4984-f60d-310757c45d9e"
      },
      "execution_count": null,
      "outputs": [
        {
          "output_type": "stream",
          "name": "stdout",
          "text": [
            "number> 5\n",
            "number> 3\n",
            "number> 2\n",
            "number> 1\n",
            "number> 6\n",
            "number> 8\n",
            "number> 123\n",
            "number> 12\n",
            "number> -12\n",
            "number> 0\n",
            "O maior número é o: 123\n",
            "O menor número é o: -12\n"
          ]
        }
      ]
    },
    {
      "cell_type": "markdown",
      "source": [
        "Faça um algoritmo que calcule e escreva a soma dos números pares e a soma dos\n",
        "números ímpares entre 1 e 100."
      ],
      "metadata": {
        "id": "MGnheYHVBVMi"
      }
    },
    {
      "cell_type": "code",
      "source": [
        "lister = [0,0]\n",
        "\n",
        "for i in range(101):\n",
        "  if i % 2 == 0:\n",
        "    lister[0] += i\n",
        "  if i % 2 != 0:\n",
        "    lister[1] += i\n",
        "  \n",
        "print(f'A soma dos pares é igual a: {lister[0]}\\nJá a soma dos ímpares é igual a: {lister[1]}')"
      ],
      "metadata": {
        "colab": {
          "base_uri": "https://localhost:8080/"
        },
        "id": "BwPGnkUxBZNs",
        "outputId": "50b14e73-4aa6-4673-dc09-b98548456018"
      },
      "execution_count": null,
      "outputs": [
        {
          "output_type": "stream",
          "name": "stdout",
          "text": [
            "A soma dos pares é igual a: 2550\n",
            "Já a soma dos ímpares é igual a: 2500\n"
          ]
        }
      ]
    },
    {
      "cell_type": "markdown",
      "source": [
        "Faça um algoritmo que leia a altura de 20 pessoas e calcule a média aritmética das\n",
        "alturas."
      ],
      "metadata": {
        "id": "gENweuMXCD1b"
      }
    },
    {
      "cell_type": "code",
      "source": [
        "n = int(input(\"Número de pessoas:\"))\n",
        "all_heights = 0\n",
        "\n",
        "for i in range(n):\n",
        "  height = float(input(\"Altura da pessoa em cms> \"))\n",
        "  all_heights += height\n",
        "\n",
        "print(f\"A altura média das pessoas é: {all_heights/n}cms\")"
      ],
      "metadata": {
        "colab": {
          "base_uri": "https://localhost:8080/"
        },
        "id": "NTnuHHCICHfj",
        "outputId": "6ac40789-99ce-4989-83ba-b255fa0e5e2d"
      },
      "execution_count": null,
      "outputs": [
        {
          "output_type": "stream",
          "name": "stdout",
          "text": [
            "Número de pessoas:3\n",
            "Altura da pessoa em cms> 190\n",
            "Altura da pessoa em cms> 189\n",
            "Altura da pessoa em cms> 177\n",
            "A altura média das pessoas é: 185.33333333333334cms\n"
          ]
        }
      ]
    },
    {
      "cell_type": "markdown",
      "source": [
        "Faça um algoritmo que leia n valores inteiros e escreva quantos desses valores são\n",
        "negativos."
      ],
      "metadata": {
        "id": "LaKZayEyDV9I"
      }
    },
    {
      "cell_type": "code",
      "source": [
        "n = int(input(\"Quantos números serão analisados? \"))\n",
        "num_count = 0\n",
        "for i in range(n):\n",
        "  number = float(input(\"number: \"))\n",
        "  if number < 0:\n",
        "    num_count += 1\n",
        "\n",
        "print(f\"O total de números negativos é: {num_count}\")"
      ],
      "metadata": {
        "colab": {
          "base_uri": "https://localhost:8080/"
        },
        "id": "s6qj3nJaDdNS",
        "outputId": "13290c21-6900-432e-f37a-218fc267ec9d"
      },
      "execution_count": null,
      "outputs": [
        {
          "output_type": "stream",
          "name": "stdout",
          "text": [
            "Quantos números serão analisados? 4\n",
            "number: 2\n",
            "number: -4\n",
            "number: 2\n",
            "number: -3\n",
            "O total de números negativos é: 2\n"
          ]
        }
      ]
    },
    {
      "cell_type": "markdown",
      "source": [
        "Faça um algoritmo que leia a quantidade de tinta que uma caneta, e enquanto a\n",
        "caneta tiver tinta para escrever, escreva “Enquanto tem tinta a caneta escreve...”.\n",
        "Considere que a cada comando de escrita a caneta gasta 2% da tinta que possui."
      ],
      "metadata": {
        "id": "kjOA2ZFQD9E1"
      }
    },
    {
      "cell_type": "code",
      "source": [
        "ink = float(input(\"Quanta tinta? \"))\n",
        "cont = 0\n",
        "\n",
        "while ink != 0 or cont == 10:\n",
        "  ink * 0.02\n",
        "  print(\"Enquanto tem tinta a caneta escreve\")\n",
        "\n",
        "# Código infinito pois como se trata de porcentagem nunca chegara a zero"
      ],
      "metadata": {
        "id": "8q1Wf0_0EBUH"
      },
      "execution_count": null,
      "outputs": []
    },
    {
      "cell_type": "markdown",
      "source": [
        "Faça um algoritmo que leia n pares de valores, sendo o primeiro valor o número de\n",
        "inscrição do atleta e o segundo a altura (em cm) do atleta. Escreva:\n",
        "• o número de inscrição e a altura do atleta mais alto;\n",
        "• o número de inscrição e a altura do atleta mais baixo;\n",
        "• a altura média do grupo de atletas."
      ],
      "metadata": {
        "id": "sGAQh4cWFGkm"
      }
    },
    {
      "cell_type": "code",
      "source": [
        "tallest = [\n",
        "  0 , 0\n",
        "]\n",
        "smallest = [\n",
        "  0 , 0\n",
        "]\n",
        "height_sum = 0\n",
        "\n",
        "n = int(input(\"Número de atletas a serem analisados: \"))\n",
        "\n",
        "for i in range(n):\n",
        "  id = int(input(\"Número de inscrição do atleta: \"))\n",
        "  height = int(input(\"Qual é a altura dele em cms? \"))\n",
        "  if height > tallest[0]:\n",
        "    tallest[0] = height\n",
        "    tallest[1] = id\n",
        "  elif height < tallest[0]:\n",
        "    smallest[0] = height\n",
        "    smallest[1] = id\n",
        "  height_sum += height\n",
        "  \n",
        "print(f'O atleta mais alto é o {tallest[1]} com {tallest[0]}cms de altura')\n",
        "print(f'O atleta mais baixo é o {smallest[1]} com {smallest[0]}cms de altura')\n",
        "print(f'A altura média é {height_sum/n}')"
      ],
      "metadata": {
        "colab": {
          "base_uri": "https://localhost:8080/"
        },
        "id": "BSY57LkqFHyt",
        "outputId": "3b27ccec-8cfd-494f-bfa7-345d62a3b9e3"
      },
      "execution_count": null,
      "outputs": [
        {
          "output_type": "stream",
          "name": "stdout",
          "text": [
            "Número de atletas a serem analisados: 3\n",
            "Número de inscrição do atleta: 190\n",
            "Qual é a altura dele em cms? 190\n",
            "Número de inscrição do atleta: 180\n",
            "Qual é a altura dele em cms? 180\n",
            "Número de inscrição do atleta: 179\n",
            "Qual é a altura dele em cms? 179\n",
            "O atleta mais alto é o 190 com 190cms de altura\n",
            "O atleta mais baixo é o 179 com 179cms de altura\n",
            "A altura média é 183.0\n"
          ]
        }
      ]
    },
    {
      "cell_type": "markdown",
      "source": [
        "![imagem_2023-05-10_210753447.png](data:image/png;base64,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)"
      ],
      "metadata": {
        "id": "zUZh-4LmIpxX"
      }
    },
    {
      "cell_type": "code",
      "source": [
        "x = 1\n",
        "\n",
        "while x < 5:\n",
        "  y = (3 + 2*x +6*x**2)/(1+9*x+16*x**2)\n",
        "  x += 0.1\n",
        "  print(y)"
      ],
      "metadata": {
        "colab": {
          "base_uri": "https://localhost:8080/"
        },
        "id": "hJlfAmECInqP",
        "outputId": "251620c1-9daa-4853-bbeb-b2a91a27a0a2"
      },
      "execution_count": null,
      "outputs": [
        {
          "output_type": "stream",
          "name": "stdout",
          "text": [
            "0.4230769230769231\n",
            "0.4117647058823529\n",
            "0.4029850746268657\n",
            "0.39607448414695523\n",
            "0.3905693950177936\n",
            "0.38613861386138604\n",
            "0.382540809084457\n",
            "0.3795970578829549\n",
            "0.37717265353418306\n",
            "0.3751647772211969\n",
            "0.37349397590361444\n",
            "0.3720981649347778\n",
            "0.3709283387622149\n",
            "0.3699454579650179\n",
            "0.3691181596375044\n",
            "0.3684210526315789\n",
            "0.3678334339167169\n",
            "0.3673383119628012\n",
            "0.36692165655499864\n",
            "0.3665718173945317\n",
            "0.3662790697674419\n",
            "0.36603525676119564\n",
            "0.36583350547407556\n",
            "0.3656680003903582\n",
            "0.3655338012560029\n",
            "0.36542669584245074\n",
            "0.3653430802458881\n",
            "0.365279861056288\n",
            "0.365234375\n",
            "0.3652043226221999\n",
            "0.3651877133105802\n",
            "0.36518281952682\n",
            "0.36518813854971344\n",
            "0.3652023603743221\n",
            "0.36522434067815956\n",
            "0.36525307797537626\n",
            "0.3652876942461151\n",
            "0.3653274184604527\n",
            "0.36537157252204244\n",
            "0.3654195592414854\n",
            "0.36547085201793716\n"
          ]
        }
      ]
    },
    {
      "cell_type": "code",
      "source": [
        "n = int(input(\"Insira o número a ser fatorado: \"))\n",
        "conta = 1\n",
        "conta_2 = 1\n",
        "\n",
        "for element in range(n):\n",
        "    conta *= conta_2 \n",
        "    conta_2 += 1\n",
        "   \n",
        "  \n",
        "print(conta)"
      ],
      "metadata": {
        "colab": {
          "base_uri": "https://localhost:8080/"
        },
        "id": "nwaA-8HFJ6C4",
        "outputId": "8c3c13ff-bb4d-4fe3-a6d5-a63c20308f40"
      },
      "execution_count": null,
      "outputs": [
        {
          "output_type": "stream",
          "name": "stdout",
          "text": [
            "Insira o número a ser fatorado: 4\n",
            "24\n"
          ]
        }
      ]
    },
    {
      "cell_type": "markdown",
      "source": [
        "Faça um algoritmo que calcule e escreva a soma da seguinte série de 100 termos:"
      ],
      "metadata": {
        "id": "1C6mQQnXUH9c"
      }
    },
    {
      "cell_type": "code",
      "source": [
        "term = 0\n",
        "\n",
        "for i in range(101):\n",
        "  term += i\n",
        "\n",
        "print(term)"
      ],
      "metadata": {
        "colab": {
          "base_uri": "https://localhost:8080/"
        },
        "id": "00l9IJ5GUK_4",
        "outputId": "05ab1170-ce21-4cca-9a0c-3bb3a3bc1277"
      },
      "execution_count": null,
      "outputs": [
        {
          "output_type": "stream",
          "name": "stdout",
          "text": [
            "5050\n"
          ]
        }
      ]
    },
    {
      "cell_type": "markdown",
      "source": [
        "Faça um algoritmo que calcule e escreva a soma da seguinte série de 100 termos:"
      ],
      "metadata": {
        "id": "zE8QOHKoUeGc"
      }
    },
    {
      "cell_type": "code",
      "source": [
        "term = 1\n",
        "cont = 1\n",
        "while cont != 100:\n",
        "  cont += 1\n",
        "  term += 1/cont\n",
        "\n",
        "print(term)"
      ],
      "metadata": {
        "colab": {
          "base_uri": "https://localhost:8080/"
        },
        "id": "Nno4G-5vUgG3",
        "outputId": "fbb491e9-f6d4-4b37-f402-ee76048232d2"
      },
      "execution_count": null,
      "outputs": [
        {
          "output_type": "stream",
          "name": "stdout",
          "text": [
            "5.187377517639621\n"
          ]
        }
      ]
    },
    {
      "cell_type": "markdown",
      "source": [
        "Fazer um algoritmo para calcular o valor de S, dado por:"
      ],
      "metadata": {
        "id": "Gewuk8Q2VCr3"
      }
    },
    {
      "cell_type": "code",
      "source": [
        "N = int(input(\"Insira um valor para N: \"))\n",
        "val = 0\n",
        "cont = 0\n",
        "\n",
        "while cont != N:\n",
        "  \n",
        "  cont += 1\n",
        "  val += cont/N-cont\n",
        "  val += N-cont/cont\n",
        "\n",
        "print(val)"
      ],
      "metadata": {
        "colab": {
          "base_uri": "https://localhost:8080/"
        },
        "id": "A5ttjMUvVR54",
        "outputId": "11304b93-5621-4b91-e998-8877e1fb3cdf"
      },
      "execution_count": null,
      "outputs": [
        {
          "output_type": "stream",
          "name": "stdout",
          "text": [
            "Insira um valor para N: 10\n",
            "40.49999999999999\n"
          ]
        }
      ]
    },
    {
      "cell_type": "markdown",
      "source": [
        "O valor aproximado do número p pode ser calculado usando-se a série:\n",
        "\n",
        "sendo o valor de . Faça um algoritmo que calcule e escreva o valor de p\n",
        "usando os 51 primeiros termos da série."
      ],
      "metadata": {
        "id": "KhoyuVpMWVyj"
      }
    },
    {
      "cell_type": "code",
      "source": [
        "from decimal import Decimal, getcontext\n",
        "getcontext().prec = 51\n",
        "\n",
        "value = 1\n",
        "cont = 3\n",
        "\n",
        "\n",
        "while cont != 51:\n",
        "\n",
        "  value -= 1/cont**3\n",
        "  cont += 2\n",
        "  value += 1/cont**3\n",
        "  cont += 2\n",
        "\n",
        "S = value\n",
        "pi = Decimal((S * 32)**(1/3))\n",
        "\n",
        "print(pi)"
      ],
      "metadata": {
        "colab": {
          "base_uri": "https://localhost:8080/"
        },
        "id": "BedaajLVWZpz",
        "outputId": "4f2c7641-b6d2-4077-d9f1-03dab275c007"
      },
      "execution_count": null,
      "outputs": [
        {
          "output_type": "stream",
          "name": "stdout",
          "text": [
            "3.141596966297162563108713584369979798793792724609375\n"
          ]
        }
      ]
    },
    {
      "cell_type": "markdown",
      "source": [
        "Fazer um algoritmo que calcule e escreva a soma dos 20 primeiros termos da série:"
      ],
      "metadata": {
        "id": "v0_w-W6deeKs"
      }
    },
    {
      "cell_type": "code",
      "source": [
        "import math\n",
        "value = 0\n",
        "\n",
        "for i in range(21):\n",
        "  value = 100 - i / math.factorial(i+1)   \n",
        "\n",
        "print(value)\n"
      ],
      "metadata": {
        "colab": {
          "base_uri": "https://localhost:8080/"
        },
        "id": "pKD3n297qzS1",
        "outputId": "94f7a05c-2a19-4a01-b289-97079cf5ea4e"
      },
      "execution_count": null,
      "outputs": [
        {
          "output_type": "stream",
          "name": "stdout",
          "text": [
            "100.0\n"
          ]
        }
      ]
    },
    {
      "cell_type": "markdown",
      "source": [
        "Fazer um algoritmo que calcule e imprima o valor de ex através da série:"
      ],
      "metadata": {
        "id": "m12qzLUGtTF8"
      }
    },
    {
      "cell_type": "code",
      "source": [
        "import math\n",
        "\n",
        "x = int(input(\"Defina um número para x: \"))\n",
        "value = 0\n",
        "neutral = value + x\n",
        "\n",
        "for i in range(31):\n",
        "  value = x ** i+1/ math.factorial(i+1)   \n",
        "\n",
        "print(value)\n"
      ],
      "metadata": {
        "colab": {
          "base_uri": "https://localhost:8080/"
        },
        "id": "gvrJ_Up1tVlV",
        "outputId": "0fd5710c-df83-4f60-f6f4-7195b1baea6a"
      },
      "execution_count": null,
      "outputs": [
        {
          "output_type": "stream",
          "name": "stdout",
          "text": [
            "Defina um número para x: 20\n",
            "1.073741824e+39\n"
          ]
        }
      ]
    },
    {
      "cell_type": "markdown",
      "source": [
        "Foi feita uma pesquisa de audiência de canal de TV em n casas de um determinado\n",
        "bairro de Joinville, em um certo dia do mês. Na pesquisa foi utilizado um coletor de\n",
        "dados portátil. Para cada casa visitada, foi fornecido o número do canal (4, 5, 9, 12) e\n",
        "o número de pessoas que estavam assistindo a TV naquele horário, considerando que\n",
        "em cada casa só existia uma televisão. Em casas onde a televisão estava desligada, foi\n",
        "registrado zero para o número do canal e para o número de pessoas. Faça um\n",
        "algoritmo que calcule e escreva, para cada emissora, o percentual de audiência."
      ],
      "metadata": {
        "id": "coarw5XrwycV"
      }
    },
    {
      "cell_type": "code",
      "source": [
        "audi = {4: [0, 0], 5: [0, 0], 9: [0, 0], 12: [0, 0]}\n",
        "total_peoples = 0\n",
        "houses = int(input(\"Digite a quantidade de casas entrevistadas: \"))\n",
        "\n",
        "for i in range(houses):\n",
        "    ch = int(input(\"Digite o número do Canal (4, 5, 9 ou 12): \"))\n",
        "    peoples = int(input(\"Digite o número de pessoas assistindo: \"))\n",
        "    audi[ch][0] += peoples\n",
        "    audi[ch][1] += 1\n",
        "    total_peoples += peoples\n",
        "\n",
        "for ch, info in audi.items():\n",
        "    if info[1] == 0:\n",
        "        percentual = 0\n",
        "    else:\n",
        "        percentual = round(info[0] / total_peoples,2)\n",
        "    print(f\"Canal {ch}: {percentual}% de audiência\")"
      ],
      "metadata": {
        "id": "1PgQIxASw027",
        "colab": {
          "base_uri": "https://localhost:8080/"
        },
        "outputId": "6729af5b-b377-40e8-f4ab-fce97a1fba83"
      },
      "execution_count": null,
      "outputs": [
        {
          "output_type": "stream",
          "name": "stdout",
          "text": [
            "Digite a quantidade de casas entrevistadas: 4\n",
            "Digite o número do Canal (4, 5, 9 ou 12): 4\n",
            "Digite o número de pessoas assistindo: 20\n",
            "Digite o número do Canal (4, 5, 9 ou 12): 5\n",
            "Digite o número de pessoas assistindo: 12\n",
            "Digite o número do Canal (4, 5, 9 ou 12): 9\n",
            "Digite o número de pessoas assistindo: 12\n",
            "Digite o número do Canal (4, 5, 9 ou 12): 4\n",
            "Digite o número de pessoas assistindo: 12\n",
            "Canal 4: 0.57% de audiência\n",
            "Canal 5: 0.21% de audiência\n",
            "Canal 9: 0.21% de audiência\n",
            "Canal 12: 0% de audiência\n"
          ]
        }
      ]
    },
    {
      "cell_type": "markdown",
      "source": [
        "Uma companhia de teatro planeja dar uma série de espetáculos. A direção calcula que,\n",
        "a R$ 5,00 o ingresso, serão vendidos 120 ingressos. Com a diminuição de R$ 0,50 no\n",
        "preço dos ingressos, espera-se que haja um aumento de 26 ingressos vendidos. As\n",
        "despesas estão estipuladas em R$ 200,00 independente do número de ingressos\n",
        "vendidos. Faça um algoritmo que escreva uma tabela contendo o preço do ingresso, o\n",
        "número de ingressos e o lucro esperado em função do preço do ingresso, fazendo-se\n",
        "variar este preço de R$ 5,00 a R$ 1,00 de R$ 0,50 em R$ 0,50. Escreva também o lucro\n",
        "máximo esperado, o preço e o número de ingressos correspondentes."
      ],
      "metadata": {
        "id": "vWU6i6BGCBXq"
      }
    },
    {
      "cell_type": "code",
      "source": [
        "import pandas as pd\n",
        "\n",
        "preco = 5.00\n",
        "incremento = 0.50\n",
        "max_lucro = 0.0\n",
        "max_preco = 0.0\n",
        "max_ingressos = 0\n",
        "precos = []\n",
        "ingressos = []\n",
        "lucros = []\n",
        "\n",
        "while preco >= 1.00:\n",
        "    if preco == 5.00:\n",
        "        num_ingressos = 120\n",
        "    else:\n",
        "        num_ingressos = 120 + (preco - 5.00) / 0.50 * 26\n",
        "    receita = num_ingressos * preco\n",
        "    despesas = 200.00\n",
        "    lucro = receita - despesas  \n",
        "    precos.append(preco)\n",
        "    ingressos.append(num_ingressos)\n",
        "    lucros.append(lucro)   \n",
        "    if lucro > max_lucro:\n",
        "        max_lucro = lucro\n",
        "        max_preco = preco\n",
        "        max_ingressos = int(num_ingressos) \n",
        "    preco -= incremento\n",
        "\n",
        "tabela_dos_dados = pd.DataFrame({'Preço do ingresso': precos,\n",
        "                   'Número de ingressos': ingressos,\n",
        "                   'Lucro esperado': lucros})\n",
        "\n",
        "tabela_dos_dados = tabela_dos_dados.round({'Preço do ingresso': 2, 'Lucro esperado': 2})\n",
        "\n",
        "\n",
        "print(tabela_dos_dados)\n",
        "\n",
        "print(f\"\\nLucro máximo esperado: R$ {max_lucro:.2f}\")\n",
        "print(f\"Preço do ingresso: R$ {max_preco:.2f}\")\n",
        "print(f\"Número de ingressos: {max_ingressos}\")\n"
      ],
      "metadata": {
        "colab": {
          "base_uri": "https://localhost:8080/"
        },
        "id": "lHNccvAHCBHv",
        "outputId": "e4adb0eb-191e-4866-88dd-342168094618"
      },
      "execution_count": null,
      "outputs": [
        {
          "output_type": "stream",
          "name": "stdout",
          "text": [
            "   Preço do ingresso  Número de ingressos  Lucro esperado\n",
            "0                5.0                120.0           400.0\n",
            "1                4.5                 94.0           223.0\n",
            "2                4.0                 68.0            72.0\n",
            "3                3.5                 42.0           -53.0\n",
            "4                3.0                 16.0          -152.0\n",
            "5                2.5                -10.0          -225.0\n",
            "6                2.0                -36.0          -272.0\n",
            "7                1.5                -62.0          -293.0\n",
            "8                1.0                -88.0          -288.0\n",
            "\n",
            "Lucro máximo esperado: R$ 400.00\n",
            "Preço do ingresso: R$ 5.00\n",
            "Número de ingressos: 120\n"
          ]
        }
      ]
    },
    {
      "cell_type": "markdown",
      "source": [
        "Faça um algoritmo que leia n números inteiros e escreva, para cada número lido, os\n",
        "divisores e quantidade de divisores.\n",
        "EXEMPLO: número lido = 12\n",
        "divisores = 1, 2, 3, 4, 6, 12\n",
        "\n",
        "quantidade divisores = 6"
      ],
      "metadata": {
        "id": "W6yWpMyGDpFQ"
      }
    },
    {
      "cell_type": "code",
      "source": [
        "import pandas as pd\n",
        "\n",
        "n = int(input(\"Digite a quantidade de números que deseja informar: \"))\n",
        "\n",
        "numeros = []\n",
        "divisores = []\n",
        "quantidade_divisores = []\n",
        "\n",
        "for i in range(n):\n",
        "    numero = int(input(\"Digite um número inteiro: \"))\n",
        "    divisores_num = []\n",
        "    for divisor in range(1, numero+1):\n",
        "        if numero % divisor == 0:\n",
        "            divisores_num.append(divisor)\n",
        "    quantidade_divisores_num = len(divisores_num)\n",
        "    \n",
        "    numeros.append(numero)\n",
        "    divisores.append(divisores_num)\n",
        "    quantidade_divisores.append(quantidade_divisores_num)\n",
        "\n",
        "tabela = pd.DataFrame({\n",
        "    \"Número\": numeros,\n",
        "    \"Divisores\": divisores,\n",
        "    \"Quantidade de divisores\": quantidade_divisores\n",
        "})\n",
        "\n",
        "print(tabela)"
      ],
      "metadata": {
        "colab": {
          "base_uri": "https://localhost:8080/"
        },
        "id": "f8iks-AtC86o",
        "outputId": "8f9a28a3-c907-4da7-9c46-e71381c02077"
      },
      "execution_count": null,
      "outputs": [
        {
          "output_type": "stream",
          "name": "stdout",
          "text": [
            "Digite a quantidade de números que deseja informar: 7\n",
            "Digite um número inteiro: 100\n",
            "Digite um número inteiro: 312\n",
            "Digite um número inteiro: 423\n",
            "Digite um número inteiro: 6134\n",
            "Digite um número inteiro: 4312\n",
            "Digite um número inteiro: 32\n",
            "Digite um número inteiro: 12\n",
            "   Número                                          Divisores  \\\n",
            "0     100                  [1, 2, 4, 5, 10, 20, 25, 50, 100]   \n",
            "1     312  [1, 2, 3, 4, 6, 8, 12, 13, 24, 26, 39, 52, 78,...   \n",
            "2     423                            [1, 3, 9, 47, 141, 423]   \n",
            "3    6134                                 [1, 2, 3067, 6134]   \n",
            "4    4312  [1, 2, 4, 7, 8, 11, 14, 22, 28, 44, 49, 56, 77...   \n",
            "5      32                               [1, 2, 4, 8, 16, 32]   \n",
            "6      12                                [1, 2, 3, 4, 6, 12]   \n",
            "\n",
            "   Quantidade de divisores  \n",
            "0                        9  \n",
            "1                       16  \n",
            "2                        6  \n",
            "3                        4  \n",
            "4                       24  \n",
            "5                        6  \n",
            "6                        6  \n"
          ]
        }
      ]
    },
    {
      "cell_type": "markdown",
      "source": [
        "Uma máquina de biscoito está com problemas. Quando ligada, após 1 hora ela quebra\n",
        "1 biscoito, na segunda hora ela quebra 3 biscoitos, na hora seguinte ela quebra 3\n",
        "vezes a quantidade de biscoitos quebrados na hora anterior, e assim por diante. Faça\n",
        "um algoritmo que calcule quantos biscoitos são quebrados no final de cada dia (a\n",
        "máquina opera 16 horas por dia)."
      ],
      "metadata": {
        "id": "cL7FNnQLEQCK"
      }
    },
    {
      "cell_type": "code",
      "source": [
        "total_biscoitos_quebrados = 0\n",
        "contador = 0\n",
        "\n",
        "for i in range(16):\n",
        "  \n",
        "      total_biscoitos_quebrados += 1\n",
        "      total_biscoitos_quebrados += 3\n",
        "      total_biscoitos_quebrados += (3 * 3) \n",
        "  \n",
        "print(f\"No final do dia, a máquina quebrou {total_biscoitos_quebrados} biscoitos.\")\n"
      ],
      "metadata": {
        "colab": {
          "base_uri": "https://localhost:8080/"
        },
        "id": "1E36ZVwhEoAk",
        "outputId": "9910e2af-dafc-4a5e-91c1-44da9183f434"
      },
      "execution_count": null,
      "outputs": [
        {
          "output_type": "stream",
          "name": "stdout",
          "text": [
            "No final do dia, a máquina quebrou 208 biscoitos.\n"
          ]
        }
      ]
    },
    {
      "cell_type": "markdown",
      "source": [
        "Uma turma tem 50 alunos. Faça um algoritmo que:\n",
        "• leia para cada aluno o seu nome e idade;\n",
        "• escreva os nomes dos alunos que tem 18 anos;\n",
        "• escreva a quantidade de alunos que tem idade acima de 20 anos."
      ],
      "metadata": {
        "id": "Ylz3pEWh3ezY"
      }
    },
    {
      "cell_type": "code",
      "source": [
        "from tables.file import NodeManager\n",
        "import pandas as pd \n",
        "\n",
        "nomes = []\n",
        "idade = []\n",
        "twenty_plus = 0\n",
        "\n",
        "for i in range(3):\n",
        "  name = input(\"Nome do aluno> \")\n",
        "  age = int(input(\"Idade do aluno>\"))\n",
        "  if age == 18:\n",
        "    nomes.append(name)\n",
        "    idade.append(age)\n",
        "  elif age > 20:\n",
        "    twenty_plus += 1\n",
        "\n",
        "tabela = pd.DataFrame({\n",
        "    \"Nome\": nomes,\n",
        "    \"Idade\": idade\n",
        "})\n",
        "\n",
        "if tabela.empty:\n",
        "  print(\"Sem alunos com 18 anos.\")\n",
        "else:\n",
        "  print(\". . . . . . . . . . . . . . . \\nAlunos com 18 anos:\")\n",
        "  print(tabela[[\"Nome\"]])\n",
        "  print(\". . . . . . . . . . . . . . . \\n\")\n",
        "print(f\"A quantidade da alunos acima de vinte anos é de {twenty_plus} alunos\")"
      ],
      "metadata": {
        "colab": {
          "base_uri": "https://localhost:8080/"
        },
        "id": "wigpgC8P3hLW",
        "outputId": "3e93aa20-d61e-43c8-a094-67debdc35fbe"
      },
      "execution_count": null,
      "outputs": [
        {
          "output_type": "stream",
          "name": "stdout",
          "text": [
            "Nome do aluno> Robosn\n",
            "Idade do aluno>19\n",
            "Nome do aluno> Alon\n",
            "Idade do aluno>18\n",
            "Nome do aluno> Mino\n",
            "Idade do aluno>18\n",
            ". . . . . . . . . . . . . . . \n",
            "Alunos com 18 anos:\n",
            "   Nome\n",
            "0  Alon\n",
            "1  Mino\n",
            ". . . . . . . . . . . . . . . \n",
            "\n",
            "A quantidade da alunos acima de vinte anos é de 0 alunos\n"
          ]
        }
      ]
    },
    {
      "cell_type": "markdown",
      "source": [
        "Faça um algoritmo que:\n",
        "• leia, para n pessoas, a altura e o sexo (sexo = 'M' ou sexo = 'm' para masculino e\n",
        "sexo = 'F' ou sexo = 'f' para feminino);\n",
        "• escreva a média da altura das mulheres;\n",
        "• escreva a média da altura da turma."
      ],
      "metadata": {
        "id": "L22Yz6HY8N90"
      }
    },
    {
      "cell_type": "code",
      "source": [
        "import pandas as pd\n",
        "\n",
        "n = int(input(\"Número de pessoas a serem comparadas> \"))\n",
        "\n",
        "h_males = 0\n",
        "h_females = 0\n",
        "females = 0\n",
        "males = 0\n",
        "female_average = 0\n",
        "all_avarage = 0\n",
        "\n",
        "for i in range(n):\n",
        "  sexo = input(\"Qual o sexo da pessoa? \")\n",
        "  \n",
        "  if sexo.upper() == \"M\":\n",
        "    males += 1\n",
        "    height = int(input(\"Insira a altura do homem em cm's > \"))\n",
        "    h_males += height\n",
        "  if sexo.upper() == \"F\":\n",
        "    females += 1\n",
        "    height = int(input(\"Insira a altura da mulher em cm's >\"))\n",
        "    h_females += height\n",
        "\n",
        "female_average = h_females / females\n",
        "all_avarage= (h_females + h_males)/n\n",
        "f = []\n",
        "a = []\n",
        "a.append(all_avarage)\n",
        "f.append(female_average)\n",
        "\n",
        "\n",
        "\n",
        "tabela = pd.DataFrame({\n",
        "    \"Altura Média ( Mulheres )\": f,\n",
        "    \"Altura Média Geral\": a\n",
        "})\n",
        "\n",
        "print(tabela)"
      ],
      "metadata": {
        "colab": {
          "base_uri": "https://localhost:8080/"
        },
        "id": "NZ67fySQ8Rft",
        "outputId": "fa6dfac5-2ba0-458b-b4f9-eccacf4b2ac2"
      },
      "execution_count": 6,
      "outputs": [
        {
          "output_type": "stream",
          "name": "stdout",
          "text": [
            "Número de pessoas a serem comparadas> 3\n",
            "Qual o sexo da pessoa? f\n",
            "Insira a altura da mulher em cm's >190\n",
            "Qual o sexo da pessoa? m\n",
            "Insira a altura do homem em cm's > 190\n",
            "Qual o sexo da pessoa? f\n",
            "Insira a altura da mulher em cm's >190\n",
            "   Altura Média (F)  Altura Média Geral\n",
            "0             190.0               190.0\n"
          ]
        }
      ]
    },
    {
      "cell_type": "markdown",
      "source": [
        "Uma loja de departamentos oferece para seus clientes um determinado desconto de\n",
        "acordo com o valor da compra efetuada. O desconto é de 20% caso o valor da compra\n",
        "seja maior que R$ 500,00 e de 15% caso seja menor ou igual. Faça um algoritmo que\n",
        "leia, para cada cliente, nome, endereço e valor da compra e escreva o total a pagar.\n",
        "Um nome de cliente igual a ULTIMO indica o fim da entrada de dados."
      ],
      "metadata": {
        "id": "5vV0z55YjwZN"
      }
    },
    {
      "cell_type": "code",
      "source": [
        "import pandas as pd\n",
        "name = ''\n",
        "l_name = []\n",
        "l_adress = []\n",
        "l_total_cost = []\n",
        "\n",
        "while name.upper() != \"ULTIMO\":\n",
        "  name = input(\"Insira o nome do cliente> \")\n",
        "  if name.upper() == \"ULTIMO\":\n",
        "    break\n",
        "  else:\n",
        "    adress = input(\"Insira o endereço desse cliente> \")\n",
        "    value_spent = float(input(\"Insira o valor da compra> \"))\n",
        "\n",
        "    if value_spent > 500:\n",
        "      discount = 0.2\n",
        "    else:\n",
        "      discount = 0.15\n",
        "\n",
        "    total_cost = value_spent - (value_spent * discount)\n",
        "\n",
        "  l_name.append(name)\n",
        "  l_adress.append(adress)\n",
        "  l_total_cost.append(total_cost)\n",
        "\n",
        "\n",
        "tabela = pd.DataFrame({\n",
        "    \"Nome\":l_name,\n",
        "    \"Endereço\":l_adress,\n",
        "    \"Valor total: R$\":l_total_cost\n",
        "})\n",
        "\n",
        "print(tabela)\n",
        "\n"
      ],
      "metadata": {
        "colab": {
          "base_uri": "https://localhost:8080/"
        },
        "id": "rQYCavCzkJ7e",
        "outputId": "34fdde68-7d6c-4a43-cf2f-5e6450b4cfc3"
      },
      "execution_count": 26,
      "outputs": [
        {
          "output_type": "stream",
          "name": "stdout",
          "text": [
            "Insira o nome do cliente> Alon\n",
            "Insira o endereço desse cliente> Rua dos anjos\n",
            "Insira o valor da compra> 1902\n",
            "Insira o nome do cliente> Vitor\n",
            "Insira o endereço desse cliente> Minguante menor\n",
            "Insira o valor da compra> 90\n",
            "Insira o nome do cliente> Lino\n",
            "Insira o endereço desse cliente> 213\n",
            "Insira o valor da compra> 3214\n",
            "Insira o nome do cliente> Mino\n",
            "Insira o endereço desse cliente> Tauro\n",
            "Insira o valor da compra> 213\n",
            "Insira o nome do cliente> Minolo\n",
            "Insira o endereço desse cliente> 90\n",
            "Insira o valor da compra> 90\n",
            "Insira o nome do cliente> Manola\n",
            "Insira o endereço desse cliente> 932\n",
            "Insira o valor da compra> 1234\n",
            "Insira o nome do cliente> Minguante\n",
            "Insira o endereço desse cliente> Crescente do Luar\n",
            "Insira o valor da compra> 123\n",
            "Insira o nome do cliente> Ultimo\n",
            "        Nome           Endereço  Valor total: R$\n",
            "0       Alon      Rua dos anjos          1521.60\n",
            "1      Vitor    Minguante menor            76.50\n",
            "2       Lino                213          2571.20\n",
            "3       Mino              Tauro           181.05\n",
            "4     Minolo                 90            76.50\n",
            "5     Manola                932           987.20\n",
            "6  Minguante  Crescente do Luar           104.55\n"
          ]
        }
      ]
    },
    {
      "cell_type": "markdown",
      "source": [
        "Faça um algoritmo que leia valores, sendo que cada valor representa a idade de uma\n",
        "pessoa. Calcule e escreva a idade média do grupo de pessoas. Só devem ser\n",
        "computados no cálculo valores maiores do que zero. O algoritmo deve apresentar ao\n",
        "usuário a seguinte mensagem:\n",
        "deseja digitar mais um valor: s (SIM) / n (NAO)?,\n",
        "antes de prosseguir com a entrada de dados."
      ],
      "metadata": {
        "id": "iGLjWaPPow02"
      }
    },
    {
      "cell_type": "code",
      "source": [
        "permission = ''\n",
        "age_cont = 0\n",
        "cont = 0\n",
        "while permission.lower() != 'n':\n",
        "\n",
        "  age = int(input(\"Digite a idade da pessoa> \"))\n",
        "  permission = input(\"Deseja continuar?  s / n > \")\n",
        "\n",
        "  if age > 0:\n",
        "    age_cont += age\n",
        "    cont += 1\n",
        "  else:\n",
        "    pass\n",
        "\n",
        "average_age = age_cont / cont\n",
        "\n",
        "print(f\"A idade média é {average_age} anos\")"
      ],
      "metadata": {
        "colab": {
          "base_uri": "https://localhost:8080/"
        },
        "id": "OJlkP0MLmR1R",
        "outputId": "3570bf4a-c6e5-41d1-b9e6-15655e3631a5"
      },
      "execution_count": 31,
      "outputs": [
        {
          "output_type": "stream",
          "name": "stdout",
          "text": [
            "Digite a idade da pessoa> 3\n",
            "Deseja continuar?  s / n > s\n",
            "Digite a idade da pessoa> 4\n",
            "Deseja continuar?  s / n > s\n",
            "Digite a idade da pessoa> 5\n",
            "Deseja continuar?  s / n > n\n",
            "4.0\n"
          ]
        }
      ]
    },
    {
      "cell_type": "markdown",
      "source": [
        "Um hotel cobra R 50,00 de diária por hóspede e mais uma taxa de serviços. A taxa de\n",
        "serviços é de:\n",
        "• R 7,50 por diária, caso o número de diárias seja menor que 15;\n",
        "• R 6,50 por diária, caso o número de diárias seja igual a 15;\n",
        "• R 5,00 por diária, caso o número de diárias seja maior que 15.\n",
        "\n",
        "Faça um algoritmo que apresente as seguintes opções ao recepcionista:\n",
        "1. encerrar a conta de um hóspede\n",
        "2. verificar número de contas encerradas\n",
        "3. finalizar a execução\n",
        "\n",
        "\n"
      ],
      "metadata": {
        "id": "vKnctmodqCC_"
      }
    },
    {
      "cell_type": "code",
      "source": [
        "import pandas as pd\n",
        "# Declara as variáveis\n",
        "\n",
        "exec = ''\n",
        "daily_cost = 50\n",
        "client = []\n",
        "cost = []\n",
        "cont = 0\n",
        "# \n",
        "option = 0\n",
        "ended = 0\n",
        "# Adicionar os clientes e seu custo total\n",
        "\n",
        "while exec.upper() != \"HALT\":\n",
        "\n",
        "  days = int(input(\"Quantos dias o cliente vai ficar? \"))\n",
        "\n",
        "  if days < 15:\n",
        "    service = days * 7.50\n",
        "  if days == 15:\n",
        "    service = days * 6.50\n",
        "  else:\n",
        "    service = days * 5\n",
        "  \n",
        "  total_cost = service + daily_cost * days\n",
        "  cont += 1\n",
        "  client.append(f\"Cliente {cont}\")\n",
        "  cost.append(total_cost)\n",
        "  exec = input(\"Prosseguir com a operação? \")\n",
        "\n",
        "# Cria a tabela de dados\n",
        "\n",
        "tabela = pd.DataFrame({\n",
        "    \"Cliente\": client,\n",
        "    \"Custo Total: R$\":cost\n",
        "})\n",
        "\n",
        "print(\"O operador deseja: \\n 1 - Encerrar a conta de um hóspede. \\n 2 - Verificar o número de contas encerradas. \\n 3 - Encerrar o programa.\")\n",
        "# Funções de deletar por id e verificar o número de contas apagadas\n",
        "while option != 3:\n",
        "\n",
        "  if option == 1 :\n",
        "    print(tabela)\n",
        "    account = int(input(\"Qual o ID da conta que deverá ser encerrada? \"))\n",
        "    tabela = tabela.drop([account])\n",
        "    ended += 1\n",
        "\n",
        "  if option == 2 :\n",
        "    print(f\"O número de contas encerrados foi {ended}\")\n",
        "\n",
        "  option = int(input(\"Operação : \"))\n",
        "\n",
        "print(tabela)\n",
        "\n",
        "\n",
        "  "
      ],
      "metadata": {
        "colab": {
          "base_uri": "https://localhost:8080/"
        },
        "id": "6iasSd1tqKzs",
        "outputId": "e0d9d704-1e55-42c2-94dd-e87c3afae1c3"
      },
      "execution_count": 40,
      "outputs": [
        {
          "output_type": "stream",
          "name": "stdout",
          "text": [
            "Quantos dias o cliente vai ficar? 12\n",
            "Prosseguir com a operação? s\n",
            "Quantos dias o cliente vai ficar? 12\n",
            "Prosseguir com a operação? s\n",
            "Quantos dias o cliente vai ficar? 54\n",
            "Prosseguir com a operação? f\n",
            "Quantos dias o cliente vai ficar? 87\n",
            "Prosseguir com a operação? b\n",
            "Quantos dias o cliente vai ficar? 43\n",
            "Prosseguir com a operação? f\n",
            "Quantos dias o cliente vai ficar? 23\n",
            "Prosseguir com a operação? f\n",
            "Quantos dias o cliente vai ficar? 2\n",
            "Prosseguir com a operação? d\n",
            "Quantos dias o cliente vai ficar? 1\n",
            "Prosseguir com a operação? v\n",
            "Quantos dias o cliente vai ficar? 5\n",
            "Prosseguir com a operação? n\n",
            "Quantos dias o cliente vai ficar? 8\n",
            "Prosseguir com a operação? ,\n",
            "Quantos dias o cliente vai ficar? 9\n",
            "Prosseguir com a operação? c\n",
            "Quantos dias o cliente vai ficar? 12\n",
            "Prosseguir com a operação? f\n",
            "Quantos dias o cliente vai ficar? 43\n",
            "Prosseguir com a operação? HALT\n",
            "O operador deseja: \n",
            " 1 - Encerrar a conta de um hóspede. \n",
            " 2 - Verificar o número de contas encerradas. \n",
            " 3 - Encerrar o programa.\n",
            "Operação : 1\n",
            "       Cliente  Custo Total: R$\n",
            "0    Cliente 1              660\n",
            "1    Cliente 2              660\n",
            "2    Cliente 3             2970\n",
            "3    Cliente 4             4785\n",
            "4    Cliente 5             2365\n",
            "5    Cliente 6             1265\n",
            "6    Cliente 7              110\n",
            "7    Cliente 8               55\n",
            "8    Cliente 9              275\n",
            "9   Cliente 10              440\n",
            "10  Cliente 11              495\n",
            "11  Cliente 12              660\n",
            "12  Cliente 13             2365\n",
            "Qual o ID da conta que deverá ser encerrada? 12\n",
            "Operação : 1\n",
            "       Cliente  Custo Total: R$\n",
            "0    Cliente 1              660\n",
            "1    Cliente 2              660\n",
            "2    Cliente 3             2970\n",
            "3    Cliente 4             4785\n",
            "4    Cliente 5             2365\n",
            "5    Cliente 6             1265\n",
            "6    Cliente 7              110\n",
            "7    Cliente 8               55\n",
            "8    Cliente 9              275\n",
            "9   Cliente 10              440\n",
            "10  Cliente 11              495\n",
            "11  Cliente 12              660\n",
            "Qual o ID da conta que deverá ser encerrada? 3\n",
            "Operação : 12\n",
            "Operação : 1\n",
            "       Cliente  Custo Total: R$\n",
            "0    Cliente 1              660\n",
            "1    Cliente 2              660\n",
            "2    Cliente 3             2970\n",
            "4    Cliente 5             2365\n",
            "5    Cliente 6             1265\n",
            "6    Cliente 7              110\n",
            "7    Cliente 8               55\n",
            "8    Cliente 9              275\n",
            "9   Cliente 10              440\n",
            "10  Cliente 11              495\n",
            "11  Cliente 12              660\n",
            "Qual o ID da conta que deverá ser encerrada? 5\n",
            "Operação : 1\n",
            "       Cliente  Custo Total: R$\n",
            "0    Cliente 1              660\n",
            "1    Cliente 2              660\n",
            "2    Cliente 3             2970\n",
            "4    Cliente 5             2365\n",
            "6    Cliente 7              110\n",
            "7    Cliente 8               55\n",
            "8    Cliente 9              275\n",
            "9   Cliente 10              440\n",
            "10  Cliente 11              495\n",
            "11  Cliente 12              660\n",
            "Qual o ID da conta que deverá ser encerrada? 6\n",
            "Operação : 1\n",
            "       Cliente  Custo Total: R$\n",
            "0    Cliente 1              660\n",
            "1    Cliente 2              660\n",
            "2    Cliente 3             2970\n",
            "4    Cliente 5             2365\n",
            "7    Cliente 8               55\n",
            "8    Cliente 9              275\n",
            "9   Cliente 10              440\n",
            "10  Cliente 11              495\n",
            "11  Cliente 12              660\n",
            "Qual o ID da conta que deverá ser encerrada? 2\n",
            "Operação : 1\n",
            "       Cliente  Custo Total: R$\n",
            "0    Cliente 1              660\n",
            "1    Cliente 2              660\n",
            "4    Cliente 5             2365\n",
            "7    Cliente 8               55\n",
            "8    Cliente 9              275\n",
            "9   Cliente 10              440\n",
            "10  Cliente 11              495\n",
            "11  Cliente 12              660\n",
            "Qual o ID da conta que deverá ser encerrada? 8\n",
            "Operação : 2\n",
            "O número de contas encerrados foi 6\n",
            "Operação : 3\n",
            "       Cliente  Custo Total: R$\n",
            "0    Cliente 1              660\n",
            "1    Cliente 2              660\n",
            "4    Cliente 5             2365\n",
            "7    Cliente 8               55\n",
            "9   Cliente 10              440\n",
            "10  Cliente 11              495\n",
            "11  Cliente 12              660\n"
          ]
        }
      ]
    },
    {
      "cell_type": "markdown",
      "source": [
        "Um determinado material radioativo perde metade de sua massa a cada 50 segundos.\n",
        "Dada a sua massa inicial em Kg, faça um algoritmo que determine o tempo necessário\n",
        "para que essa massa se torne menor que 0,5 gramas. Escreva a massa inicial, a massa\n",
        "final e o tempo."
      ],
      "metadata": {
        "id": "6hitIFB7xklH"
      }
    },
    {
      "cell_type": "code",
      "source": [
        "mass0 = int(input(\"Qual a massa? \"))*1000\n",
        "massf = mass0\n",
        "m_f = 0\n",
        "cont = 0\n",
        "\n",
        "while massf > 0.5:\n",
        "  massf *= 0.5\n",
        "  cont +=1\n",
        "\n",
        "print(f\"O tempo necessário para {mass0/1000}KG se tornar inferior a 0.5 gramas foi de {cont*50} segundos, a massa final foi de {massf:.2f} gramas.\")"
      ],
      "metadata": {
        "colab": {
          "base_uri": "https://localhost:8080/"
        },
        "id": "WtXmte66xlfw",
        "outputId": "b2a4e39a-6040-4249-86dd-5193b216fa80"
      },
      "execution_count": 53,
      "outputs": [
        {
          "output_type": "stream",
          "name": "stdout",
          "text": [
            "Qual a massa? 1000\n",
            "O tempo necessário para 1000.0KG se tornar inferior a 0.5 gramas foi de 1050 segundos, a massa final foi de 0.48 gramas \n"
          ]
        }
      ]
    }
  ]
}