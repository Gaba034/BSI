{
  "cells": [
    {
      "cell_type": "markdown",
      "metadata": {
        "id": "DTNt4f8Hpxaq"
      },
      "source": [
        "9. Faça um algoritmo que calcule o volume de uma lata de óleo. Escreva o resultado.\n",
        "FÓRMULA: volume = p * raio2 * altura"
      ]
    },
    {
      "cell_type": "code",
      "execution_count": null,
      "metadata": {
        "id": "FckLcY77pu4C"
      },
      "outputs": [],
      "source": [
        "import math\n",
        "\n",
        "radius = float(input(\"Digite o raio da lata em cm: \"))\n",
        "height = float(input(\"Digite a altura da lata em cm: \"))\n",
        "\n",
        "volume = math.pi * radius ** 2 * height\n",
        "\n",
        "print(\"O volume da lata de óleo é de\", round(volume, 2), \"cm³.\")"
      ]
    },
    {
      "cell_type": "markdown",
      "metadata": {
        "id": "0dQEvfwyqE94"
      },
      "source": [
        "10. Faça um algoritmo que leia as 3 notas de um aluno e calcule e escreva a média final\n",
        "deste aluno. Considerar que a média é ponderada e que o peso das notas é: 2,3 e 5,\n",
        "respectivamente."
      ]
    },
    {
      "cell_type": "code",
      "execution_count": 2,
      "metadata": {
        "colab": {
          "base_uri": "https://localhost:8080/"
        },
        "id": "ftHrm8vpqLgH",
        "outputId": "81926d6a-3b9a-4ee3-bb97-56247739ad3a"
      },
      "outputs": [
        {
          "name": "stdout",
          "output_type": "stream",
          "text": [
            "Digite a primeira nota: 3\n",
            "Digite a segunda nota: 2\n",
            "Digite a terceira nota: 3\n",
            "A média final do aluno é 2.7\n"
          ]
        }
      ],
      "source": [
        "grade1 = float(input(\"Digite a primeira nota: \"))\n",
        "grade2 = float(input(\"Digite a segunda nota: \"))\n",
        "grade3 = float(input(\"Digite a terceira nota: \"))\n",
        "\n",
        "media = (grade1 * 2 + grade2 * 3 + grade3 * 5) / 10\n",
        "\n",
        "print(f\"A média final do aluno é {round(media, 2)}\")"
      ]
    },
    {
      "cell_type": "markdown",
      "metadata": {
        "id": "6MqKZsLdrIW3"
      },
      "source": [
        "11. Faça um algoritmo que leia as coordenadas de dois pontos, P1 (x1, y1) e P2 (x2, y2)\n",
        "respectivamente, e calcule e escreva a distância entre eles."
      ]
    },
    {
      "cell_type": "code",
      "execution_count": 3,
      "metadata": {
        "colab": {
          "base_uri": "https://localhost:8080/"
        },
        "id": "E5sqKXNOqkfs",
        "outputId": "b350c7e3-fd9a-4ddb-f214-c25e0f838bf1"
      },
      "outputs": [
        {
          "name": "stdout",
          "output_type": "stream",
          "text": [
            "Digite a coordenada x do primeiro ponto: 3\n",
            "Digite a coordenada y do primeiro ponto: 2\n",
            "Digite a coordenada x do segundo ponto: 5\n",
            "Digite a coordenada y do segundo ponto: 8\n",
            "A distância entre os pontos P1(3.0, 2.0) e P2(5.0, 8.0) é: 6.324555320336759\n"
          ]
        }
      ],
      "source": [
        "import math\n",
        "\n",
        "x1,y1,x2,y2 = float(input(\"Digite a coordenada x do primeiro ponto: \")),float(input(\"Digite a coordenada y do primeiro ponto: \")),float(input(\"Digite a coordenada x do segundo ponto: \")), float(input(\"Digite a coordenada y do segundo ponto: \"))\n",
        "\n",
        "distance = math.sqrt((x2 - x1)**2 + (y2 - y1)**2)\n",
        "\n",
        "print(f\"A distância entre os pontos P1({x1}, {y1}) e P2({x2}, {y2}) é: {distance}\")"
      ]
    },
    {
      "cell_type": "markdown",
      "metadata": {
        "id": "H-PN4kF2rJ4s"
      },
      "source": [
        "12. Faça um algoritmo que leia os valores a, b, c, d, e, f, e calcule x e y."
      ]
    },
    {
      "cell_type": "code",
      "execution_count": null,
      "metadata": {
        "id": "jPbCD5RRrb5V"
      },
      "outputs": [],
      "source": [
        "a = float(input(\"Digite o valor de a: \"))\n",
        "b = float(input(\"Digite o valor de b: \"))\n",
        "c = float(input(\"Digite o valor de c: \"))\n",
        "d = float(input(\"Digite o valor de d: \"))\n",
        "e = float(input(\"Digite o valor de e: \"))\n",
        "f = float(input(\"Digite o valor de f: \"))\n",
        "\n",
        "x = (c * e - b * f) / (a * e - b * d)\n",
        "y = (a * f - c * d) / (a * e - b * d)\n",
        "\n",
        "print(f\"O valor de x é {x:.2f}\")\n",
        "print(f\"O valor de y é {y:.2f}\")\n"
      ]
    },
    {
      "cell_type": "markdown",
      "metadata": {
        "id": "E497utnorj3q"
      },
      "source": [
        "13. Faça um algoritmo que leia a idade de uma pessoa expressa em dias e mostre-a\n",
        "expressa em anos, meses e dias."
      ]
    },
    {
      "cell_type": "code",
      "execution_count": null,
      "metadata": {
        "id": "_39byro-rp9t"
      },
      "outputs": [],
      "source": [
        "age = int(input(\"Digite a idade em dias: \"))\n",
        "\n",
        "year = age // 365\n",
        "month = (age % 365) // 30\n",
        "day = (age % 365) % 30\n",
        "\n",
        "print(f\"A idade é {year} anos, {month} meses e {day} dias\")"
      ]
    },
    {
      "cell_type": "markdown",
      "metadata": {
        "id": "8V5Vh5oCrujY"
      },
      "source": [
        "14. Faça um algoritmo que leia o tempo de duração de um evento em uma fábrica\n",
        "expressa em segundos e mostre-o expresso em horas, minutos e segundos."
      ]
    },
    {
      "cell_type": "code",
      "execution_count": null,
      "metadata": {
        "id": "9hgJxBzHruTG"
      },
      "outputs": [],
      "source": [
        "seconds = int(input(\"Digite o tempo de duração do evento em segundos: \"))\n",
        "\n",
        "horas = seconds // 3600\n",
        "leftoverSecond = seconds % 3600\n",
        "minutes = leftoverSecond // 60\n",
        "finalsSeconds = leftoverSecond % 60\n",
        "\n",
        "print(f\"{seconds} segundos equivalem a {horas} horas, {minutes} minutos e {finalsSeconds} segundos.\")"
      ]
    },
    {
      "cell_type": "markdown",
      "metadata": {
        "id": "xY8Fw_N5r6KY"
      },
      "source": [
        "15. O custo ao consumidor de um carro novo é a soma do custo de fábrica com a\n",
        "percentagem do distribuidor e dos impostos (aplicados ao custo de fábrica).\n",
        "Supondo que a percentagem do distribuidor seja de 28% e os impostos de 45%,\n",
        "escrever um algoritmo que leia o custo de fábrica de um carro e escreva o custo ao\n",
        "consumidor."
      ]
    },
    {
      "cell_type": "code",
      "execution_count": null,
      "metadata": {
        "id": "71eL7qLzr54a"
      },
      "outputs": [],
      "source": [
        "cost = float(input(\"Digite o custo de fábrica do carro: \"))\n",
        "\n",
        "taxes1 = 0.28\n",
        "taxes2 = 0.45\n",
        "\n",
        "consumer_cost = cost + (cost * taxes1) + (cost * taxes2)\n",
        "\n",
        "print(f\"O custo ao consumidor é de R${consumer_cost:.2f}.\")"
      ]
    },
    {
      "cell_type": "markdown",
      "metadata": {
        "id": "1Q97sF-usFqV"
      },
      "source": [
        "16. O governador acaba de liberar R$ 1.000.000.000,00 para construção de casas\n",
        "populares. Cada casa custa o equivalente a 90 salários mínimos. Faça um algoritmo\n",
        "que leia o valor do salário mínimo e calcule a quantidade de casas que podem ser\n",
        "construídas com o recurso liberado.\n"
      ]
    },
    {
      "cell_type": "code",
      "execution_count": 5,
      "metadata": {
        "colab": {
          "base_uri": "https://localhost:8080/"
        },
        "id": "P9ac6uF6sGgN",
        "outputId": "d86239b0-1858-4fed-ffed-b3d222c47bc7"
      },
      "outputs": [
        {
          "name": "stdout",
          "output_type": "stream",
          "text": [
            "Digite o valor do salário mínimo: 1200\n",
            "Com R$ 1.000.000.000,00 é possível construir 9259 casas.\n"
          ]
        }
      ],
      "source": [
        "minSal = float(input(\"Digite o valor do salário mínimo: \"))\n",
        "\n",
        "houseTotalCost = 90 * minSal \n",
        "\n",
        "houseBuildTotal = int(1000000000 // houseTotalCost)\n",
        "\n",
        "print(f\"Com R$ 1.000.000.000,00 é possível construir {houseBuildTotal} casas.\")"
      ]
    }
  ],
  "metadata": {
    "colab": {
      "provenance": []
    },
    "kernelspec": {
      "display_name": "Python 3",
      "name": "python3"
    },
    "language_info": {
      "name": "python"
    }
  },
  "nbformat": 4,
  "nbformat_minor": 0
}
