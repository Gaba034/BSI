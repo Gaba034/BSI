{
 "cells": [
  {
   "attachments": {},
   "cell_type": "markdown",
   "metadata": {},
   "source": [
    "1. Atribua valores para as variáveis usadas e determine o resultado da execução dos\n",
    "algoritmos abaixo:\n",
    "\n",
    "algoritmo “Intervalo de Numeros”\n",
    "    var\n",
    "        numero : inteiro\n",
    "inicio\n",
    "    escreva (“Digite um numero: ”)\n",
    "    leia (numero)\n",
    "    se ((numero >= 20) e (numero <= 90)) entao\n",
    "    escreva (\"Numero no intervalo [20,90]\")\n",
    "    senao\n",
    "        escreva (\"Numero fora do intervalo [20,90]\")\n",
    "    fimse\n",
    "fimalgoritmo\n",
    "algoritmo “Calcula expressão”\n",
    "var\n",
    "a, b, c, d : inteiro\n",
    "inicio\n",
    "    escreva (“Entre com 3 numeros: ”)\n",
    "    ler (a, b, c)\n",
    "    se (nao (c > 5)) entao\n",
    "        d <- (a + b) * c\n",
    "    senao\n",
    "        d <- (a - b) * c\n",
    "    fimse\n",
    "    escreva (d)\n",
    "fimalgoritmo"
   ]
  },
  {
   "cell_type": "code",
   "execution_count": 107,
   "metadata": {},
   "outputs": [
    {
     "name": "stdout",
     "output_type": "stream",
     "text": [
      "Número está fora do intervalo 20 - 90\n",
      "O valor de 'd' é : 1812\n"
     ]
    }
   ],
   "source": [
    "import array as arr\n",
    "\n",
    "# Primeira tarefa\n",
    "\n",
    "number = int(input(\"Digite um número: \"))\n",
    "\n",
    "if number >= 20 and number <= 90:\n",
    "    print(\"Número está no intervalo 20 <-> 90\")\n",
    "else:\n",
    "    print(\"Número está fora do intervalo 20 <-> 90\")\n",
    "\n",
    "\n",
    "# Segunda tarefa\n",
    "\n",
    "a,b,c,d = 0,0,0,0\n",
    "vars = arr.array('i',[a,b,c,d])\n",
    "\n",
    "for i in range(len(vars)-1):\n",
    "    vars[i] = int(input(\"Qual seria o valor de a,b e c ?\"))\n",
    "\n",
    "if  not vars[2] > 5 :\n",
    "    vars[3] = (vars[0] + vars[1])*vars[2]\n",
    "\n",
    "else:\n",
    "    vars[3] = (vars[0] - vars[1])*vars[2]\n",
    "\n",
    "print(f\"O valor de 'd' é : {vars[3]}\")"
   ]
  },
  {
   "attachments": {},
   "cell_type": "markdown",
   "metadata": {},
   "source": [
    "2. Ler um valor e escrever se é positivo, negativo ou zero."
   ]
  },
  {
   "cell_type": "code",
   "execution_count": 74,
   "metadata": {},
   "outputs": [
    {
     "name": "stdout",
     "output_type": "stream",
     "text": [
      "O número é zero\n"
     ]
    }
   ],
   "source": [
    "class PositiveOrNegative():\n",
    "    def __init__(self,number):\n",
    "        self.number = number\n",
    "    \n",
    "    def test_number(self):\n",
    "        if self.number > 0:\n",
    "            return(\"O número é positivo\")\n",
    "        if self.number < 0:\n",
    "            return(\"O número é negativo\")\n",
    "        else:\n",
    "            return(\"O número é zero\")\n",
    "        \n",
    "test = PositiveOrNegative(int(input(\"Insira um número\")))\n",
    "print(test.test_number())"
   ]
  },
  {
   "attachments": {},
   "cell_type": "markdown",
   "metadata": {},
   "source": [
    "3. Ler um valor e escrever se é positivo, negativo ou zero."
   ]
  },
  {
   "cell_type": "code",
   "execution_count": 76,
   "metadata": {},
   "outputs": [
    {
     "name": "stdout",
     "output_type": "stream",
     "text": [
      "O número é mais que dez.\n"
     ]
    }
   ],
   "source": [
    "class BiggerOrSmallerThanTen():\n",
    "    def __init__(self,number):\n",
    "        self.number = number\n",
    "    \n",
    "    def test_bigger_or_smaller(self):\n",
    "        if self.number > 10:\n",
    "            return ( \"O número é maior que dez.\" )\n",
    "        else:\n",
    "            return ( \"O número é menor que dez.\")\n",
    "        \n",
    "test = BiggerOrSmallerThanTen(int(input(\"Insira um número\")))\n",
    "print(test.test_bigger_or_smaller())"
   ]
  },
  {
   "attachments": {},
   "cell_type": "markdown",
   "metadata": {},
   "source": [
    "4. Calcule a soma de dois número se for maior que dez mostre-o na tela."
   ]
  },
  {
   "cell_type": "code",
   "execution_count": 94,
   "metadata": {},
   "outputs": [
    {
     "name": "stdout",
     "output_type": "stream",
     "text": [
      "O número é maior que dez\n"
     ]
    }
   ],
   "source": [
    "class SumAndFilter():\n",
    "\n",
    "    def __init__(self,number_one,number_two):\n",
    "        self.number_one = number_one\n",
    "        self.number_two = number_two\n",
    "    \n",
    "    def sum_nums(self):\n",
    "\n",
    "        self.simple = self.number_one + self.number_two\n",
    "\n",
    "        def display_if_bigger_than_ten():\n",
    "            return(\"O número é maior que dez\")\n",
    "        \n",
    "        if self.simple > 10:\n",
    "            return(display_if_bigger_than_ten())\n",
    "        \n",
    "\n",
    "test = SumAndFilter(int(input(\"Insira um valor\")),int(input(\"Insira outro valor\")))\n",
    "print(test.sum_nums())"
   ]
  },
  {
   "attachments": {},
   "cell_type": "markdown",
   "metadata": {},
   "source": [
    "5. Entrar com um número e informar se ele é divisivel por 5"
   ]
  },
  {
   "cell_type": "code",
   "execution_count": 104,
   "metadata": {},
   "outputs": [
    {
     "name": "stdout",
     "output_type": "stream",
     "text": [
      "O número não é divisivel por 5\n"
     ]
    }
   ],
   "source": [
    "class DivisibleByFive():\n",
    "    def __init__(self,number):\n",
    "        self.number = number\n",
    "    \n",
    "    def test_divisibility_by_five(self):\n",
    "        if not self.number % 5:\n",
    "            return(\"O número é divisivel por 5\")\n",
    "        else:\n",
    "            return(\"O número não é divisivel por 5\")\n",
    "        \n",
    "test = DivisibleByFive(int(input(\"Insira um número.\")))\n",
    "print(test.test_divisibility_by_five())"
   ]
  },
  {
   "attachments": {},
   "cell_type": "markdown",
   "metadata": {},
   "source": [
    "6. Criar um algoritmo para indicar se um número está entre 20 e 90\n"
   ]
  },
  {
   "cell_type": "code",
   "execution_count": 113,
   "metadata": {},
   "outputs": [
    {
     "name": "stdout",
     "output_type": "stream",
     "text": [
      "O número está dentro do alcance\n"
     ]
    }
   ],
   "source": [
    "class NumberRange20to90():\n",
    "\n",
    "    def __init__(self,number):\n",
    "        self.number = number\n",
    "    \n",
    "    def test_range(self):\n",
    "        if self.number >= 20 and self.number <= 90:\n",
    "            return(\"O número está dentro do alcance\")\n",
    "        else:\n",
    "            return(\"O número está fora do alcance\")\n",
    "\n",
    "test = NumberRange20to90(int(input(\"Digite um número: \")))\n",
    "print(test.test_range())\n",
    "    \n"
   ]
  },
  {
   "attachments": {},
   "cell_type": "markdown",
   "metadata": {},
   "source": [
    "7. Ler o ano atual e o ano de nascimento de uma pessoa. Escrever uma mensagem que diga se ela pode ou não votar."
   ]
  },
  {
   "cell_type": "code",
   "execution_count": 126,
   "metadata": {},
   "outputs": [
    {
     "name": "stdout",
     "output_type": "stream",
     "text": [
      "Você não é apto a votar esse ano\n"
     ]
    }
   ],
   "source": [
    "from datetime import date \n",
    "\n",
    "today = str(date.today())\n",
    "yearNow = int(today[0:4])\n",
    "\n",
    "class RightToVote():\n",
    "    def __init__(self,year):\n",
    "        self.year = year\n",
    "    \n",
    "    def test_year(self):\n",
    "        if yearNow - self.year >= 18:\n",
    "            return(\"Você é apto a votar esse ano\")\n",
    "        else:\n",
    "            return(\"Você não é apto a votar esse ano\")\n",
    "\n",
    "test = RightToVote(int(input(\"Insira o seu ano de nascimento: \")))\n",
    "print(test.test_year())"
   ]
  },
  {
   "attachments": {},
   "cell_type": "markdown",
   "metadata": {},
   "source": [
    "8. Entrar com o ano de nascimento de uma pessoa e imprimir a idade dela. Verificar se o\n",
    "ano digitado é válido."
   ]
  },
  {
   "cell_type": "code",
   "execution_count": 13,
   "metadata": {},
   "outputs": [
    {
     "name": "stdout",
     "output_type": "stream",
     "text": [
      "A idade da pessoa é de 1733 anos\n"
     ]
    }
   ],
   "source": [
    "from datetime import date  \n",
    "class PersonAge():\n",
    "    def __init__(self,birth):\n",
    "        self.birth =  int(birth)\n",
    "    \n",
    "    def validate_birth_and_return_age(self): # Como não foi informado que a pessoa precisa ser viva\n",
    "        if type(self.birth) == int:\n",
    "            testing = str(date.today())\n",
    "            age = int(testing[0:4]) - self.birth \n",
    "            return(f\"A idade da pessoa é de {age} anos\")\n",
    "        else:\n",
    "            return(\"Insira um valor válido! \")\n",
    "\n",
    "test = PersonAge(input(\"Insira o ano de nascimento de uma pessoa: \"))\n",
    "print(test.validate_birth_and_return_age())"
   ]
  },
  {
   "attachments": {},
   "cell_type": "markdown",
   "metadata": {},
   "source": [
    "9. Entrar com a idade de uma pessoa e exibir a mensagem; Maior de idade, menor de\n",
    "idade ou acima de 65 anos."
   ]
  },
  {
   "cell_type": "code",
   "execution_count": 25,
   "metadata": {},
   "outputs": [
    {
     "name": "stdout",
     "output_type": "stream",
     "text": [
      "Menor de idade\n"
     ]
    }
   ],
   "source": [
    "class OlderOrYoungerThan65():\n",
    "    \n",
    "    def __init__(self,age) -> None:\n",
    "        self.age = age\n",
    "    \n",
    "    def age_testing(self):\n",
    "        if self.age >= 0:\n",
    "            if self.age > 65:\n",
    "                return(\"Acima de 65 anos\")\n",
    "            if self.age >= 18 and self.age <= 65:\n",
    "                return(\"Maior de idade\")\n",
    "            else:\n",
    "                return(\"Menor de idade\")\n",
    "        else:\n",
    "            return(\"Insira uma idade válida\")\n",
    "        \n",
    "test = OlderOrYoungerThan65(int(input(\"Insira a idade de uma pessoa: \")))\n",
    "print(test.age_testing())"
   ]
  },
  {
   "attachments": {},
   "cell_type": "markdown",
   "metadata": {},
   "source": [
    "10. Ler as notas da 1a\n",
    ". e 2a\n",
    ". avaliações de um aluno. Calcular a média aritmética simples e\n",
    "escrever uma mensagem que diga se o aluno foi ou não aprovado (considerar que se a\n",
    "nota for igual ou maior que 6 o aluno é aprovado). Escrever também a média\n",
    "calculada."
   ]
  },
  {
   "cell_type": "code",
   "execution_count": 4,
   "metadata": {},
   "outputs": [
    {
     "name": "stdout",
     "output_type": "stream",
     "text": [
      "Reprovado 5.0\n"
     ]
    }
   ],
   "source": [
    "class StudentStatus():\n",
    "\n",
    "    def __init__(self, gradeone, gradetwo):\n",
    "        self.gradeone = gradeone\n",
    "        self.gradetwo = gradetwo\n",
    "\n",
    "    def calc_status(self):\n",
    "        average_grade = (self.gradeone + self.gradetwo)/2\n",
    "        if average_grade >= 6:\n",
    "            return(f\"Aprovado {average_grade}\")\n",
    "        else:\n",
    "            return(f\"Reprovado {average_grade}\")\n",
    "\n",
    "test = StudentStatus(float(input(\"Nota número um: \")),float(input(\"Nota número dois: \")))\n",
    "print(test.calc_status())"
   ]
  },
  {
   "attachments": {},
   "cell_type": "markdown",
   "metadata": {},
   "source": [
    "11. Escrever um algoritmo para ler duas notas de um aluno e escrever na tela a palavra\n",
    "“Aprovado” se a média das duas notas for maior ou igual a 7,0. Caso a média seja\n",
    "inferior a 7,0, o programa deve ler a nota do exame e calcular a média final. Se esta\n",
    "média for maior ou igual a 5,0, o programa deve escrever “Aprovado”, caso contrário\n",
    "deve escrever “Reprovado”. "
   ]
  },
  {
   "cell_type": "code",
   "execution_count": 6,
   "metadata": {},
   "outputs": [
    {
     "name": "stdout",
     "output_type": "stream",
     "text": [
      "Reprovado\n"
     ]
    }
   ],
   "source": [
    "class StudentStatus():\n",
    "\n",
    "    def __init__(self, gradeone, gradetwo):\n",
    "        self.gradeone = gradeone\n",
    "        self.gradetwo = gradetwo\n",
    "\n",
    "    def calc_status(self):\n",
    "        average_grade = (self.gradeone + self.gradetwo)/2\n",
    "        if average_grade >= 7:\n",
    "            return(f\"Aprovado {average_grade}\")\n",
    "        else:\n",
    "            exam_grade = float(input(\"Qual foi a nota no exame\"))\n",
    "            final_grade = (average_grade + exam_grade)/2\n",
    "            if final_grade >= 5:\n",
    "                return(\"Aprovado\")\n",
    "            else:\n",
    "                return(\"Reprovado\")\n",
    "            \n",
    "test = StudentStatus(float(input(\"Nota número um: \")),float(input(\"Nota número dois: \")))\n",
    "print(test.calc_status())"
   ]
  },
  {
   "attachments": {},
   "cell_type": "markdown",
   "metadata": {},
   "source": [
    "12. Escrever um algoritmo para ler a quantidade de horas aula dadas por dois professores\n",
    "e o valor por hora recebido por cada um. Mostrar na tela qual dos professores tem\n",
    "salário total maior."
   ]
  },
  {
   "cell_type": "code",
   "execution_count": 2,
   "metadata": {},
   "outputs": [
    {
     "name": "stdout",
     "output_type": "stream",
     "text": [
      "Professor dois tem um salário maior\n"
     ]
    }
   ],
   "source": [
    "class BiggerSal():\n",
    "\n",
    "    def set_data(self,worktime1,worktime2,payperhour1,payperhour2):\n",
    "        self.worktime1 = worktime1\n",
    "        self.worktime2 = worktime2\n",
    "        self.payperhour1 = payperhour1\n",
    "        self.payperhour2 = payperhour2\n",
    "    \n",
    "    def calc_sal_amout(self):\n",
    "        professor_one_sal = self.payperhour1 * self.worktime1\n",
    "        professor_two_sal = self.payperhour2 * self.worktime2\n",
    "        if professor_one_sal > professor_two_sal:\n",
    "            return(\"Professor um tem um salário maior\")\n",
    "        else:\n",
    "            return(\"Professor dois tem um salário maior\")\n",
    "        \n",
    "start = BiggerSal()\n",
    "start.set_data(\n",
    "    float(input(\"Insira o tempo de trabalho em horas do primeiro professor\")),\n",
    "    float(input(\"Insira o tempo de trabalho em horas do segundo professor\")),\n",
    "    float(input(\"Insira o ganho por hora do primeiro professor\")),\n",
    "    float(input(\"Insira o ganho por hora do segundo professor\"))\n",
    ")\n",
    "print(start.calc_sal_amout())"
   ]
  },
  {
   "attachments": {},
   "cell_type": "markdown",
   "metadata": {},
   "source": [
    "13. Faça um algoritmo que leia um número inteiro e mostre uma mensagem indicando se este número é par ou ímpar"
   ]
  },
  {
   "cell_type": "code",
   "execution_count": 5,
   "metadata": {},
   "outputs": [
    {
     "name": "stdout",
     "output_type": "stream",
     "text": [
      "O número é impar\n"
     ]
    }
   ],
   "source": [
    "class OddOrEven():\n",
    "\n",
    "    def __init__(self,number):\n",
    "        self.number = number\n",
    "\n",
    "    def odd_or_even(self):\n",
    "        spare = self.number % 2\n",
    "        if spare == 0:\n",
    "            return(\"O número é par\")\n",
    "        else:\n",
    "            return(\"O número é impar\")\n",
    "        \n",
    "\n",
    "test = OddOrEven(int(input(\"Insira um número para testar se é ímpar ou par. \")))\n",
    "print(test.odd_or_even())"
   ]
  },
  {
   "attachments": {},
   "cell_type": "markdown",
   "metadata": {},
   "source": [
    "14. Ler o nome de 2 times e o número de gols marcados na partida. Escrever o nome do\n",
    "vencedor. Caso não haja vencedor deverá ser impressa a palavra EMPATE."
   ]
  },
  {
   "cell_type": "code",
   "execution_count": 10,
   "metadata": {},
   "outputs": [
    {
     "name": "stdout",
     "output_type": "stream",
     "text": [
      "Empate\n"
     ]
    }
   ],
   "source": [
    "class GameWinner():\n",
    "    def set_team_status(self,team_one_goals,team_two_goals):\n",
    "        self.team_one_goals = team_one_goals\n",
    "        self.team_two_goals = team_two_goals\n",
    "\n",
    "    def get_winner(self):\n",
    "\n",
    "        if self.team_two_goals > self.team_one_goals or self.team_two_goals == self.team_one_goals:\n",
    "            if self.team_one_goals == self.team_two_goals:\n",
    "                return(\"Empate\")\n",
    "            else:\n",
    "                return(\"O time vencedor é o time dois\")\n",
    "        else:\n",
    "            return(\"O primeiro time é o vencedor\")\n",
    "\n",
    "test = GameWinner()\n",
    "test.set_team_status(\n",
    "    int(input(\"Quantos gols o time um fez ? \")),\n",
    "    int(input(\"Quantos gols o time dois fez ? \")),\n",
    ")\n",
    "print(test.get_winner())"
   ]
  },
  {
   "attachments": {},
   "cell_type": "markdown",
   "metadata": {},
   "source": [
    "15. Entrar com a sigla do estado de uma pessoa e imprimir uma das mensagens: “Carioca,\n",
    "Paulista, Mineiro ou Outros”"
   ]
  },
  {
   "cell_type": "code",
   "execution_count": 39,
   "metadata": {},
   "outputs": [
    {
     "name": "stdout",
     "output_type": "stream",
     "text": [
      "O gentílico dessa Unidade Federal é Pernambucano\n"
     ]
    }
   ],
   "source": [
    "UF = [\"AL\",\"AP\",\"AM\",\"BA\",\"CE\",\"DF\",\"ES\",\"GO\",\"MA\",\"MT\",\"MS\",\"MG\",\"PA\",\"PB\",\"PR\",\"PE\",\"PI\",\"RJ\",\"RN\",\"RS\",\"RO\",\"RR\",\"SC\",\"SP\",\"SE\",\"TO\"]\n",
    "Gentilico = [\"Alagoano\",\"Amapaense\",\"Amazonense\",\"Baiano\",\"Cearense\",\"Brasilience\",\"Capixaba\",\"Goiano\",\"Maranhense\",\"Mato-grossense\",\"Sul-mato-grossense\",\"Mineiro\",\"Paraense\",\"Paraibano\",\"Paranaense\",\"Pernambucano\",\"Piauiense\",\"Fluminense\",\"Potiguar\",\"Gaúcho\",\"Rondoniano\",\"Roraimense\",\"Catarinense\",\"Paulista\",\"Sergipano\",\"Tocantinense\"]\n",
    "\n",
    "class PersonGentilic():\n",
    "\n",
    "    def __init__(self,uf):\n",
    "        self.uf = uf\n",
    "    \n",
    "    def get_gentilic(self):\n",
    "\n",
    "        for i in range(len(UF)):\n",
    "            if self.uf == UF[i]:\n",
    "                return(f\"O gentílico dessa Unidade Federal é {Gentilico[i]}\")\n",
    "    \n",
    "teste = PersonGentilic(input(\"Insira a sigla de uma UF exemplo: 'AM, SC, CE' \"))\n",
    "print(teste.get_gentilic())"
   ]
  },
  {
   "attachments": {},
   "cell_type": "markdown",
   "metadata": {},
   "source": [
    "16. Um comerciante comprou um produto e quer vendê-lo com um lucro de 45% se o valor\n",
    "da compra for menor que R$ 20,00; Caso contrário, o lucro será de 30%. Entrar com o\n",
    "valor do produto e imprimir o valor da venda."
   ]
  },
  {
   "cell_type": "code",
   "execution_count": 53,
   "metadata": {},
   "outputs": [
    {
     "name": "stdout",
     "output_type": "stream",
     "text": [
      "O custo do produto deve ser R$ 52.0\n"
     ]
    }
   ],
   "source": [
    "class RevenuePercentage():\n",
    "\n",
    "    def __init__(self,product_cost):\n",
    "        self.product_cost = product_cost\n",
    "    \n",
    "    def get_percent_revenue(self):\n",
    "\n",
    "        if self.product_cost < 20 and self.product_cost > 0:\n",
    "            self.percent = 1.40\n",
    "        elif self.product_cost >= 20:\n",
    "            self.percent = 1.30\n",
    "        \n",
    "        new_cost = round(self.product_cost * self.percent,2)\n",
    "        return(f\"O custo do produto deve ser R$ {new_cost}\")\n",
    "\n",
    "    \n",
    "test = RevenuePercentage(float(input(\"Insira o valor do produto. \")))\n",
    "print(test.get_percent_revenue())"
   ]
  },
  {
   "attachments": {},
   "cell_type": "markdown",
   "metadata": {},
   "source": [
    "17. Entrar com um número de 1 a 12 e exibir o mês correspondente."
   ]
  },
  {
   "cell_type": "code",
   "execution_count": 57,
   "metadata": {},
   "outputs": [
    {
     "name": "stdout",
     "output_type": "stream",
     "text": [
      "O mês é:\n",
      "\n",
      "    February 2023\n",
      "Mo Tu We Th Fr Sa Su\n",
      "       1  2  3  4  5\n",
      " 6  7  8  9 10 11 12\n",
      "13 14 15 16 17 18 19\n",
      "20 21 22 23 24 25 26\n",
      "27 28\n",
      "\n"
     ]
    }
   ],
   "source": [
    "import calendar \n",
    "class NumberToMonth():\n",
    "\n",
    "    def __init__(self,month_number):\n",
    "        self.month_number = month_number\n",
    "    \n",
    "    def get_month(self):\n",
    "        num_month = calendar.month(2023,self.month_number)\n",
    "        return(f\"O mês é:\\n\\n {num_month }\")\n",
    "    \n",
    "test = NumberToMonth(int(input(\"Insira um número de 1 a 12 para saber o mês \")))\n",
    "print(test.get_month())"
   ]
  },
  {
   "attachments": {},
   "cell_type": "markdown",
   "metadata": {},
   "source": [
    "18. Faça um algoritmo que verifique se uma letra digitada é vogal ou consoante."
   ]
  },
  {
   "cell_type": "code",
   "execution_count": 2,
   "metadata": {},
   "outputs": [
    {
     "name": "stdout",
     "output_type": "stream",
     "text": [
      "Consoante\n"
     ]
    }
   ],
   "source": [
    "vowel = [\"a\",\"e\",\"i\",\"o\",\"u\"]\n",
    "\n",
    "class VowelOrConsonant():\n",
    "\n",
    "    def __init__(self,letter):\n",
    "        self.letter = letter\n",
    "\n",
    "    def test_vowel_or_consonant(self):\n",
    "        for i in range(len(vowel)):\n",
    "            if self.letter == vowel[i]:\n",
    "                return(\"Vogal\")\n",
    "        else:\n",
    "            return(\"Consoante\")\n",
    "        \n",
    "            \n",
    "test = VowelOrConsonant(input(\"Insira uma letra para testar se é vogal ou consoante: \"))\n",
    "print(test.test_vowel_or_consonant())"
   ]
  },
  {
   "attachments": {},
   "cell_type": "markdown",
   "metadata": {},
   "source": [
    "19. Ler 2 valores (considere que não serão lidos valores iguais) e escrever o maior deles."
   ]
  },
  {
   "cell_type": "code",
   "execution_count": 71,
   "metadata": {},
   "outputs": [
    {
     "name": "stdout",
     "output_type": "stream",
     "text": [
      "O primeiro número é maior\n"
     ]
    }
   ],
   "source": [
    "class BiggerNum():\n",
    "\n",
    "    def __init__(self,numOne,numTwo):\n",
    "        self.numOne = numOne\n",
    "        self.numTwo = numTwo\n",
    "    \n",
    "    def biggerNumber(self):\n",
    "        if self.numOne > self.numTwo:\n",
    "            return(\"O primeiro número é maior\")\n",
    "        else:\n",
    "            return(\"O segundo número é maior\")\n",
    "        \n",
    "test = BiggerNum(\n",
    "    float(input(\"Insira o primeiro número: \")),\n",
    "    float(input(\"Insira o segundo número: \")),\n",
    ")\n",
    "print(test.biggerNumber())"
   ]
  },
  {
   "attachments": {},
   "cell_type": "markdown",
   "metadata": {},
   "source": [
    "20. Ler 2 valores (considere que não serão lidos valores iguais) e escrevê-los em ordem\n",
    "crescente."
   ]
  },
  {
   "cell_type": "code",
   "execution_count": 89,
   "metadata": {},
   "outputs": [
    {
     "name": "stdout",
     "output_type": "stream",
     "text": [
      "A lista colocada em ordem fica:\n",
      "[1.0, 2.0, 3.0, 4.0]\n"
     ]
    }
   ],
   "source": [
    "numList = []\n",
    "\n",
    "class BiggerNum():\n",
    "    def __init__(self,howManyNumbers):\n",
    "        self.howManyNumbers = howManyNumbers\n",
    "        \n",
    "    \n",
    "    def order(self):\n",
    "        for i in range(self.howManyNumbers):\n",
    "            numbers = float(input(\"Insira um número: \"))\n",
    "            numList.append(numbers)\n",
    "        numList.sort()\n",
    "        return(f\"A lista colocada em ordem fica:\\n{numList}\")\n",
    "        \n",
    "    \n",
    "test = BiggerNum(\n",
    "    int(input(\"Quantos número vão ser organizados? \"))  \n",
    ")\n",
    "\n",
    "print(test.order())"
   ]
  }
 ],
 "metadata": {
  "kernelspec": {
   "display_name": "Python 3",
   "language": "python",
   "name": "python3"
  },
  "language_info": {
   "codemirror_mode": {
    "name": "ipython",
    "version": 3
   },
   "file_extension": ".py",
   "mimetype": "text/x-python",
   "name": "python",
   "nbconvert_exporter": "python",
   "pygments_lexer": "ipython3",
   "version": "3.9.16"
  },
  "orig_nbformat": 4
 },
 "nbformat": 4,
 "nbformat_minor": 2
}
