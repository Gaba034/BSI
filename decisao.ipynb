{
 "cells": [
  {
   "attachments": {},
   "cell_type": "markdown",
   "metadata": {},
   "source": [
    "1. Atribua valores para as variáveis usadas e determine o resultado da execução dos\n",
    "algoritmos abaixo:\n",
    "\n",
    "algoritmo “Intervalo de Numeros”\n",
    "    var\n",
    "        numero : inteiro\n",
    "inicio\n",
    "    escreva (“Digite um numero: ”)\n",
    "    leia (numero)\n",
    "    se ((numero >= 20) e (numero <= 90)) entao\n",
    "    escreva (\"Numero no intervalo [20,90]\")\n",
    "    senao\n",
    "        escreva (\"Numero fora do intervalo [20,90]\")\n",
    "    fimse\n",
    "fimalgoritmo\n",
    "algoritmo “Calcula expressão”\n",
    "var\n",
    "a, b, c, d : inteiro\n",
    "inicio\n",
    "    escreva (“Entre com 3 numeros: ”)\n",
    "    ler (a, b, c)\n",
    "    se (nao (c > 5)) entao\n",
    "        d <- (a + b) * c\n",
    "    senao\n",
    "        d <- (a - b) * c\n",
    "    fimse\n",
    "    escreva (d)\n",
    "fimalgoritmo"
   ]
  },
  {
   "cell_type": "code",
   "execution_count": 107,
   "metadata": {},
   "outputs": [
    {
     "name": "stdout",
     "output_type": "stream",
     "text": [
      "Número está fora do intervalo 20 - 90\n",
      "O valor de 'd' é : 1812\n"
     ]
    }
   ],
   "source": [
    "import array as arr\n",
    "\n",
    "# Primeira tarefa\n",
    "\n",
    "number = int(input(\"Digite um número: \"))\n",
    "\n",
    "if number >= 20 and number <= 90:\n",
    "    print(\"Número está no intervalo 20 <-> 90\")\n",
    "else:\n",
    "    print(\"Número está fora do intervalo 20 <-> 90\")\n",
    "\n",
    "\n",
    "# Segunda tarefa\n",
    "\n",
    "a,b,c,d = 0,0,0,0\n",
    "vars = arr.array('i',[a,b,c,d])\n",
    "\n",
    "for i in range(len(vars)-1):\n",
    "    vars[i] = int(input(\"Qual seria o valor de a,b e c ?\"))\n",
    "\n",
    "if  not vars[2] > 5 :\n",
    "    vars[3] = (vars[0] + vars[1])*vars[2]\n",
    "\n",
    "else:\n",
    "    vars[3] = (vars[0] - vars[1])*vars[2]\n",
    "\n",
    "print(f\"O valor de 'd' é : {vars[3]}\")"
   ]
  },
  {
   "attachments": {},
   "cell_type": "markdown",
   "metadata": {},
   "source": [
    "2. Ler um valor e escrever se é positivo, negativo ou zero."
   ]
  },
  {
   "cell_type": "code",
   "execution_count": 74,
   "metadata": {},
   "outputs": [
    {
     "name": "stdout",
     "output_type": "stream",
     "text": [
      "O número é zero\n"
     ]
    }
   ],
   "source": [
    "class PositiveOrNegative():\n",
    "    def __init__(self,number):\n",
    "        self.number = number\n",
    "    \n",
    "    def test_number(self):\n",
    "        if self.number > 0:\n",
    "            return(\"O número é positivo\")\n",
    "        if self.number < 0:\n",
    "            return(\"O número é negativo\")\n",
    "        else:\n",
    "            return(\"O número é zero\")\n",
    "        \n",
    "test = PositiveOrNegative(int(input(\"Insira um número\")))\n",
    "print(test.test_number())"
   ]
  },
  {
   "attachments": {},
   "cell_type": "markdown",
   "metadata": {},
   "source": [
    "3. Ler um valor e escrever se é positivo, negativo ou zero."
   ]
  },
  {
   "cell_type": "code",
   "execution_count": 76,
   "metadata": {},
   "outputs": [
    {
     "name": "stdout",
     "output_type": "stream",
     "text": [
      "O número é mais que dez.\n"
     ]
    }
   ],
   "source": [
    "class BiggerOrSmallerThanTen():\n",
    "    def __init__(self,number):\n",
    "        self.number = number\n",
    "    \n",
    "    def test_bigger_or_smaller(self):\n",
    "        if self.number > 10:\n",
    "            return ( \"O número é maior que dez.\" )\n",
    "        else:\n",
    "            return ( \"O número é menor que dez.\")\n",
    "        \n",
    "test = BiggerOrSmallerThanTen(int(input(\"Insira um número\")))\n",
    "print(test.test_bigger_or_smaller())"
   ]
  },
  {
   "attachments": {},
   "cell_type": "markdown",
   "metadata": {},
   "source": [
    "4. Calcule a soma de dois número se for maior que dez mostre-o na tela."
   ]
  },
  {
   "cell_type": "code",
   "execution_count": 94,
   "metadata": {},
   "outputs": [
    {
     "name": "stdout",
     "output_type": "stream",
     "text": [
      "O número é maior que dez\n"
     ]
    }
   ],
   "source": [
    "class SumAndFilter():\n",
    "\n",
    "    def __init__(self,number_one,number_two):\n",
    "        self.number_one = number_one\n",
    "        self.number_two = number_two\n",
    "    \n",
    "    def sum_nums(self):\n",
    "\n",
    "        self.simple = self.number_one + self.number_two\n",
    "\n",
    "        def display_if_bigger_than_ten():\n",
    "            return(\"O número é maior que dez\")\n",
    "        \n",
    "        if self.simple > 10:\n",
    "            return(display_if_bigger_than_ten())\n",
    "        \n",
    "\n",
    "test = SumAndFilter(int(input(\"Insira um valor\")),int(input(\"Insira outro valor\")))\n",
    "print(test.sum_nums())"
   ]
  },
  {
   "attachments": {},
   "cell_type": "markdown",
   "metadata": {},
   "source": [
    "5. Entrar com um número e informar se ele é divisivel por 5"
   ]
  },
  {
   "cell_type": "code",
   "execution_count": 104,
   "metadata": {},
   "outputs": [
    {
     "name": "stdout",
     "output_type": "stream",
     "text": [
      "O número não é divisivel por 5\n"
     ]
    }
   ],
   "source": [
    "class DivisibleByFive():\n",
    "    def __init__(self,number):\n",
    "        self.number = number\n",
    "    \n",
    "    def test_divisibility_by_five(self):\n",
    "        if not self.number % 5:\n",
    "            return(\"O número é divisivel por 5\")\n",
    "        else:\n",
    "            return(\"O número não é divisivel por 5\")\n",
    "        \n",
    "test = DivisibleByFive(int(input(\"Insira um número.\")))\n",
    "print(test.test_divisibility_by_five())"
   ]
  },
  {
   "attachments": {},
   "cell_type": "markdown",
   "metadata": {},
   "source": [
    "6. Criar um algoritmo para indicar se um número está entre 20 e 90\n"
   ]
  },
  {
   "cell_type": "code",
   "execution_count": 113,
   "metadata": {},
   "outputs": [
    {
     "name": "stdout",
     "output_type": "stream",
     "text": [
      "O número está dentro do alcance\n"
     ]
    }
   ],
   "source": [
    "class NumberRange20to90():\n",
    "\n",
    "    def __init__(self,number):\n",
    "        self.number = number\n",
    "    \n",
    "    def test_range(self):\n",
    "        if self.number >= 20 and self.number <= 90:\n",
    "            return(\"O número está dentro do alcance\")\n",
    "        else:\n",
    "            return(\"O número está fora do alcance\")\n",
    "\n",
    "test = NumberRange20to90(int(input(\"Digite um número: \")))\n",
    "print(test.test_range())\n",
    "    \n"
   ]
  },
  {
   "attachments": {},
   "cell_type": "markdown",
   "metadata": {},
   "source": [
    "7. Ler o ano atual e o ano de nascimento de uma pessoa. Escrever uma mensagem que diga se ela pode ou não votar."
   ]
  },
  {
   "cell_type": "code",
   "execution_count": 126,
   "metadata": {},
   "outputs": [
    {
     "name": "stdout",
     "output_type": "stream",
     "text": [
      "Você não é apto a votar esse ano\n"
     ]
    }
   ],
   "source": [
    "from datetime import date \n",
    "\n",
    "today = str(date.today())\n",
    "yearNow = int(today[0:4])\n",
    "\n",
    "class RightToVote():\n",
    "    def __init__(self,year):\n",
    "        self.year = year\n",
    "    \n",
    "    def test_year(self):\n",
    "        if yearNow - self.year >= 18:\n",
    "            return(\"Você é apto a votar esse ano\")\n",
    "        else:\n",
    "            return(\"Você não é apto a votar esse ano\")\n",
    "\n",
    "test = RightToVote(int(input(\"Insira o seu ano de nascimento: \")))\n",
    "print(test.test_year())"
   ]
  },
  {
   "attachments": {},
   "cell_type": "markdown",
   "metadata": {},
   "source": [
    "8. Entrar com o ano de nascimento de uma pessoa e imprimir a idade dela. Verificar se o\n",
    "ano digitado é válido."
   ]
  },
  {
   "cell_type": "code",
   "execution_count": 13,
   "metadata": {},
   "outputs": [
    {
     "name": "stdout",
     "output_type": "stream",
     "text": [
      "A idade da pessoa é de 1733 anos\n"
     ]
    }
   ],
   "source": [
    "from datetime import date  \n",
    "class PersonAge():\n",
    "    def __init__(self,birth):\n",
    "        self.birth =  int(birth)\n",
    "    \n",
    "    def validate_birth_and_return_age(self): # Como não foi informado que a pessoa precisa ser viva\n",
    "        if type(self.birth) == int:\n",
    "            testing = str(date.today())\n",
    "            age = int(testing[0:4]) - self.birth \n",
    "            return(f\"A idade da pessoa é de {age} anos\")\n",
    "        else:\n",
    "            return(\"Insira um valor válido! \")\n",
    "\n",
    "test = PersonAge(input(\"Insira o ano de nascimento de uma pessoa: \"))\n",
    "print(test.validate_birth_and_return_age())"
   ]
  },
  {
   "attachments": {},
   "cell_type": "markdown",
   "metadata": {},
   "source": [
    "9. Entrar com a idade de uma pessoa e exibir a mensagem; Maior de idade, menor de\n",
    "idade ou acima de 65 anos."
   ]
  },
  {
   "cell_type": "code",
   "execution_count": 25,
   "metadata": {},
   "outputs": [
    {
     "name": "stdout",
     "output_type": "stream",
     "text": [
      "Menor de idade\n"
     ]
    }
   ],
   "source": [
    "class OlderOrYoungerThan65():\n",
    "    \n",
    "    def __init__(self,age) -> None:\n",
    "        self.age = age\n",
    "    \n",
    "    def age_testing(self):\n",
    "        if self.age >= 0:\n",
    "            if self.age > 65:\n",
    "                return(\"Acima de 65 anos\")\n",
    "            if self.age >= 18 and self.age <= 65:\n",
    "                return(\"Maior de idade\")\n",
    "            else:\n",
    "                return(\"Menor de idade\")\n",
    "        else:\n",
    "            return(\"Insira uma idade válida\")\n",
    "        \n",
    "test = OlderOrYoungerThan65(int(input(\"Insira a idade de uma pessoa: \")))\n",
    "print(test.age_testing())"
   ]
  },
  {
   "cell_type": "markdown",
   "metadata": {},
   "source": []
  }
 ],
 "metadata": {
  "kernelspec": {
   "display_name": "Python 3",
   "language": "python",
   "name": "python3"
  },
  "language_info": {
   "codemirror_mode": {
    "name": "ipython",
    "version": 3
   },
   "file_extension": ".py",
   "mimetype": "text/x-python",
   "name": "python",
   "nbconvert_exporter": "python",
   "pygments_lexer": "ipython3",
   "version": "3.9.16"
  },
  "orig_nbformat": 4
 },
 "nbformat": 4,
 "nbformat_minor": 2
}
