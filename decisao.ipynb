{
 "cells": [
  {
   "attachments": {},
   "cell_type": "markdown",
   "metadata": {},
   "source": [
    "1. Atribua valores para as variáveis usadas e determine o resultado da execução dos\n",
    "algoritmos abaixo:\n",
    "\n",
    "algoritmo “Intervalo de Numeros”\n",
    "    var\n",
    "        numero : inteiro\n",
    "inicio\n",
    "    escreva (“Digite um numero: ”)\n",
    "    leia (numero)\n",
    "    se ((numero >= 20) e (numero <= 90)) entao\n",
    "    escreva (\"Numero no intervalo [20,90]\")\n",
    "    senao\n",
    "        escreva (\"Numero fora do intervalo [20,90]\")\n",
    "    fimse\n",
    "fimalgoritmo\n",
    "algoritmo “Calcula expressão”\n",
    "var\n",
    "a, b, c, d : inteiro\n",
    "inicio\n",
    "    escreva (“Entre com 3 numeros: ”)\n",
    "    ler (a, b, c)\n",
    "    se (nao (c > 5)) entao\n",
    "        d <- (a + b) * c\n",
    "    senao\n",
    "        d <- (a - b) * c\n",
    "    fimse\n",
    "    escreva (d)\n",
    "fimalgoritmo"
   ]
  },
  {
   "cell_type": "code",
   "execution_count": 68,
   "metadata": {},
   "outputs": [
    {
     "name": "stdout",
     "output_type": "stream",
     "text": [
      "array('i', [20, 30, 40, 0])\n",
      "0\n",
      "avocado\n",
      "-400\n",
      "array('i', [20, 30, 40, -400])\n"
     ]
    }
   ],
   "source": [
    "import array as arr\n",
    "\n",
    "# Primeira tarefa\n",
    "\n",
    "number = int(input(\"Digite um número: \"))\n",
    "\n",
    "if number >= 20 and number <= 90:\n",
    "    print(\"Número no intervalo 20 - 90\")\n",
    "else:\n",
    "    print(\"Número fora do intervalo 20 - 90\")\n",
    "\n",
    "\n",
    "# Segunda tarefa\n",
    "\n",
    "a,b,c,d = 0,0,0,0\n",
    "vars = arr.array('i',[a,b,c,d])\n",
    "\n",
    "for i in range(len(vars)-1):\n",
    "    vars[i] = int(input(\"Qual seria o valor de a,b e c ?\"))\n",
    "\n",
    "if  not vars[2] > 5: # Não sei se é com o operador NOT\n",
    "    vars[3] = (vars[0] + vars[1])*vars[2]\n",
    "\n",
    "else:\n",
    "    vars[3] = (vars[0] - vars[1])*vars[2]\n",
    "\n",
    "print(vars[3])"
   ]
  }
 ],
 "metadata": {
  "kernelspec": {
   "display_name": "Python 3",
   "language": "python",
   "name": "python3"
  },
  "language_info": {
   "codemirror_mode": {
    "name": "ipython",
    "version": 3
   },
   "file_extension": ".py",
   "mimetype": "text/x-python",
   "name": "python",
   "nbconvert_exporter": "python",
   "pygments_lexer": "ipython3",
   "version": "3.9.16"
  },
  "orig_nbformat": 4
 },
 "nbformat": 4,
 "nbformat_minor": 2
}
