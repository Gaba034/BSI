{
  "cells": [
    {
      "cell_type": "markdown",
      "metadata": {
        "id": "6HIa5mP_C_5q"
      },
      "source": [
        "1. Faça um Programa que mostre a mensagem \"Alo mundo\" na tela."
      ]
    },
    {
      "cell_type": "code",
      "execution_count": null,
      "metadata": {
        "id": "1oVwHcnjC8E0"
      },
      "outputs": [],
      "source": [
        "print(\"Alo mundo\")"
      ]
    },
    {
      "cell_type": "markdown",
      "metadata": {
        "id": "E_Oub82EDCbS"
      },
      "source": [
        "2. Faça um Programa que peça um número e então mostre a mensagem O número informado foi [número]."
      ]
    },
    {
      "cell_type": "code",
      "execution_count": null,
      "metadata": {
        "colab": {
          "base_uri": "https://localhost:8080/"
        },
        "id": "613DcKYGDEfY",
        "outputId": "db09eef9-2f14-499c-ed69-0e09f2eeb05c"
      },
      "outputs": [
        {
          "name": "stdout",
          "output_type": "stream",
          "text": [
            "Insira um número : 5\n",
            "O número informado foi 5.0\n"
          ]
        }
      ],
      "source": [
        "number = float(input(\"Insira um número : \"))\n",
        "print(f\"O número informado foi {number}\")"
      ]
    },
    {
      "cell_type": "markdown",
      "metadata": {
        "id": "8OH45CXbEPX6"
      },
      "source": [
        "3. Faça um Programa que peça dois números e imprima a soma."
      ]
    },
    {
      "cell_type": "code",
      "execution_count": null,
      "metadata": {
        "colab": {
          "base_uri": "https://localhost:8080/"
        },
        "id": "q8Ra-EmMERxj",
        "outputId": "972823aa-f523-4e01-b25d-5697a1f59b94"
      },
      "outputs": [
        {
          "name": "stdout",
          "output_type": "stream",
          "text": [
            "Qual seria o primeiro valor? 2\n",
            "Qual seria o segundo valor? 4\n",
            "A soma dos número é: 6.0 \n"
          ]
        }
      ],
      "source": [
        "firstNumber = float(input(\"Qual seria o primeiro valor? \"))\n",
        "secondNumber = float(input(\"Qual seria o segundo valor? \"))\n",
        "numberSum = firstNumber + secondNumber\n",
        "print(f\"A soma dos número é: {numberSum} \")"
      ]
    },
    {
      "cell_type": "markdown",
      "metadata": {
        "id": "_o0kKsx2Esfa"
      },
      "source": [
        "4. Faça um Programa que peça as 4 notas bimestrais e mostre a média."
      ]
    },
    {
      "cell_type": "code",
      "execution_count": null,
      "metadata": {
        "colab": {
          "base_uri": "https://localhost:8080/"
        },
        "id": "ge-SWiQsEvb7",
        "outputId": "cb1bcecb-0219-44b9-b908-4dedb1d7f920"
      },
      "outputs": [
        {
          "name": "stdout",
          "output_type": "stream",
          "text": [
            "Nota bimestral 1: 10\n",
            "Nota bimestral 2: 3\n",
            "Nota bimestral 3: 5\n",
            "Nota bimestral 4: 1\n",
            "A média das quatro notas é: 4.75\n"
          ]
        }
      ],
      "source": [
        "controler = 0\n",
        "\n",
        "for i in range(4):\n",
        "  grade = int(input(f\"Nota bimestral {i+1}: \"))\n",
        "  controler += grade\n",
        "\n",
        "bimestralM = controler/4\n",
        "print(f\"A média das quatro notas é: {bimestralM}\")"
      ]
    },
    {
      "cell_type": "markdown",
      "metadata": {
        "id": "Rzbt7jHvHHt2"
      },
      "source": [
        "5. Faça um Programa que converta metros para centímetros."
      ]
    },
    {
      "cell_type": "code",
      "execution_count": null,
      "metadata": {
        "colab": {
          "base_uri": "https://localhost:8080/"
        },
        "id": "o6qk2hVrHKuW",
        "outputId": "0b04fbb0-415a-4f4a-9b4e-264e085f34ca"
      },
      "outputs": [
        {
          "name": "stdout",
          "output_type": "stream",
          "text": [
            "Quantos metros você deseja converter? 1\n",
            "O valor convertido para centimetros fica: 100.0cm \n"
          ]
        }
      ],
      "source": [
        "meters = float(input(\"Quantos metros você deseja converter? \"))\n",
        "centimeters = meters * 100\n",
        "print(f\"O valor convertido para centimetros fica: {centimeters}cm \")"
      ]
    },
    {
      "cell_type": "markdown",
      "metadata": {
        "id": "zU33sOwbHnQP"
      },
      "source": [
        "6. Faça um Programa que peça o raio de um círculo, calcule e mostre sua área.\n"
      ]
    },
    {
      "cell_type": "code",
      "execution_count": null,
      "metadata": {
        "colab": {
          "base_uri": "https://localhost:8080/"
        },
        "id": "U5h0Nzs4HsnM",
        "outputId": "ac5b3d31-0b38-449d-a0d1-b4a0a34572f1"
      },
      "outputs": [
        {
          "name": "stdout",
          "output_type": "stream",
          "text": [
            "Qual o raio do circulo? 32\n",
            "A area do circulo é de 100.5 \n"
          ]
        }
      ],
      "source": [
        "import math\n",
        "\n",
        "radius = float(input(\"Qual o raio do circulo? \"))\n",
        "area = round(math.pi * radius,1)\n",
        "print(f\"A area do circulo é de {area} \")"
      ]
    },
    {
      "cell_type": "markdown",
      "metadata": {
        "id": "iGNE8Fn_JxXC"
      },
      "source": [
        "7. Faça um Programa que calcule a área de um quadrado, em seguida mostre o dobro desta área para o usuário."
      ]
    },
    {
      "cell_type": "code",
      "execution_count": null,
      "metadata": {
        "colab": {
          "base_uri": "https://localhost:8080/"
        },
        "id": "Jl-FRwRSJzit",
        "outputId": "4c476901-d7fd-45fa-c81e-d78b228657af"
      },
      "outputs": [
        {
          "name": "stdout",
          "output_type": "stream",
          "text": [
            "Altura do quadrado: 2\n",
            "A area do quadrado é de 4.0 e seu valor dobrado é 8.0 \n"
          ]
        }
      ],
      "source": [
        "side = float(input(\"Altura do quadrado: \"))\n",
        "\n",
        "area = side*2\n",
        "\n",
        "print(f\"A area do quadrado é de {area} e seu valor dobrado é {area*2} \")\n"
      ]
    },
    {
      "cell_type": "markdown",
      "metadata": {
        "id": "mrDaLQIKKZyV"
      },
      "source": [
        "8. Faça um Programa que pergunte quanto você ganha por hora e o número de horas trabalhadas no mês.\n",
        "Calcule e mostre o total do seu salário no referido mês.\n"
      ]
    },
    {
      "cell_type": "code",
      "execution_count": null,
      "metadata": {
        "colab": {
          "base_uri": "https://localhost:8080/"
        },
        "id": "wYYPFmh4KgtV",
        "outputId": "f0d66ae0-efa9-4a41-8773-408ffcb81d91"
      },
      "outputs": [
        {
          "name": "stdout",
          "output_type": "stream",
          "text": [
            "Quanto ganhas por hora? 23\n",
            "Quantas horas foram trabalhadas? 1\n",
            "O salário a ser recebido no mês é de: R$23.0 \n"
          ]
        }
      ],
      "source": [
        "moneyPerHour = float(input(\"Quanto ganhas por hora? \"))\n",
        "workTime = float(input(\"Quantas horas foram trabalhadas? \"))\n",
        "\n",
        "totalMoney = moneyPerHour * workTime\n",
        "\n",
        "print(f\"O salário a ser recebido no mês é de: R${totalMoney} \")"
      ]
    },
    {
      "cell_type": "markdown",
      "metadata": {
        "id": "3uzhS9v4LIIL"
      },
      "source": [
        "9. Faça um Programa que peça a temperatura em graus Farenheit, transforme e mostre a temperatura em graus\n",
        "Celsius.\n",
        "C = (5 * (F-32) / 9)."
      ]
    },
    {
      "cell_type": "code",
      "execution_count": null,
      "metadata": {
        "colab": {
          "base_uri": "https://localhost:8080/"
        },
        "id": "986fRdXxLKre",
        "outputId": "cbc5ea8d-6f1e-4315-8458-d61de7a07ddc"
      },
      "outputs": [
        {
          "name": "stdout",
          "output_type": "stream",
          "text": [
            "Qual a temperatura em Farenheit? 32\n",
            "A temperatura convertida para Celcius fica: 0.0° \n"
          ]
        }
      ],
      "source": [
        "tempInFaren = float(input(\"Qual a temperatura em Farenheit? \"))\n",
        "farenToCelcius = 5*(tempInFaren-32)/9\n",
        "print(f\"A temperatura convertida para Celcius fica: {farenToCelcius}° \")"
      ]
    },
    {
      "cell_type": "markdown",
      "metadata": {
        "id": "qJnLxvLFL3xq"
      },
      "source": [
        "10. Faça um Programa que peça a temperatura em graus Celsius, transforme e mostre em graus Farenheit."
      ]
    },
    {
      "cell_type": "code",
      "execution_count": null,
      "metadata": {
        "colab": {
          "base_uri": "https://localhost:8080/"
        },
        "id": "ZQfspwc5L9TW",
        "outputId": "a006f3c0-307e-4c90-ec2f-91e5c28be5af"
      },
      "outputs": [
        {
          "name": "stdout",
          "output_type": "stream",
          "text": [
            "Qual a temperatura em Celcius? 32\n",
            "A temperatura convertida para Farenehit fica: 89.6° \n"
          ]
        }
      ],
      "source": [
        "tempInCelcius = float(input(\"Qual a temperatura em Celcius? \"))\n",
        "celciusToFaren = (tempInFaren /  5)*9+ 32 \n",
        "print(f\"A temperatura convertida para Farenehit fica: {celciusToFaren}° \")"
      ]
    },
    {
      "cell_type": "markdown",
      "metadata": {
        "id": "ISn-R7EJj45U"
      },
      "source": [
        "11. Faça um Programa que peça 2 números inteiros e um número real. Calcule e mostre:\n",
        "* o produto do dobro do primeiro com metade do segundo .\n",
        "* a soma do triplo do primeiro com o terceiro.\n",
        "* o terceiro elevado ao cubo.\n",
        "\n",
        "\n",
        "\n"
      ]
    },
    {
      "cell_type": "code",
      "execution_count": null,
      "metadata": {
        "colab": {
          "base_uri": "https://localhost:8080/"
        },
        "id": "b0_-zhkxkCJi",
        "outputId": "ad3a2996-a126-487b-f93f-e94688e084be"
      },
      "outputs": [
        {
          "name": "stdout",
          "output_type": "stream",
          "text": [
            "Valor do número 1 :3\n",
            "Valor do número 2 :2\n",
            "Valor do número 3 :5\n",
            "O valor resultado da primeira operação é: 6.0\n",
            "O valor resultado da segunda operação é: 14\n",
            "O valor resultado da terceira operação é: 125\n",
            "125\n"
          ]
        }
      ],
      "source": [
        "numGroup = []\n",
        "\n",
        "for i in range(3):\n",
        "  intNums = int(input(f\"Valor do número {i+1} :\"))\n",
        "  if i == 3:\n",
        "    realNum = float(input(f\"Valor do número {i} :\"))\n",
        "    numGroup.append(realNum)\n",
        "  numGroup.append(intNums)\n",
        "\n",
        "operationOne = (numGroup[0]*2) * (numGroup[1]/2)\n",
        "operationTwo = (numGroup[0]*3) + numGroup[2]\n",
        "operationThree = (numGroup[2]**3)\n",
        "\n",
        "print(f\"O valor resultado da primeira operação é: {operationOne}\")\n",
        "print(f\"O valor resultado da segunda operação é: {operationTwo}\")\n",
        "print(f\"O valor resultado da terceira operação é: {operationThree}\")\n"
      ]
    },
    {
      "cell_type": "markdown",
      "metadata": {
        "id": "wzUAh7XPwGuT"
      },
      "source": [
        "12. Tendo como dados de entrada a altura de uma pessoa, construa um algoritmo que calcule seu peso ideal,\n",
        "usando a seguinte fórmula: (72.7*altura) - 58\n"
      ]
    },
    {
      "cell_type": "code",
      "execution_count": 19,
      "metadata": {
        "colab": {
          "base_uri": "https://localhost:8080/"
        },
        "id": "w6U08osZwIGa",
        "outputId": "740f261d-b33b-493b-8034-a28caed06c06"
      },
      "outputs": [
        {
          "name": "stdout",
          "output_type": "stream",
          "text": [
            "Qual a altura da pessoa em metros? 1.8\n",
            "A massa ideal para essa pessoa é 72.86 kg\n"
          ]
        }
      ],
      "source": [
        "height = float(input(\"Qual a altura da pessoa em metros? \"))\n",
        "\n",
        "idealMass = round((72.7*height)-58,2)\n",
        "\n",
        "print(f\"A massa ideal para essa pessoa é {idealMass} kg\")"
      ]
    },
    {
      "cell_type": "markdown",
      "metadata": {
        "id": "MygXcpEaCitH"
      },
      "source": [
        "13. Tendo como dados de entrada a altura e o sexo de uma pessoa, construa um algoritmo que calcule seu peso\n",
        "ideal, utilizando as seguintes fórmulas:\n",
        "* Para homens: (72.7*h) - 58\n",
        "* Para mulheres: (62.1*h) - 44.7 (h = altura)\n",
        "* Peça o peso da pessoa e informe se ela está dentro, acima ou abaixo do peso.\n"
      ]
    },
    {
      "cell_type": "code",
      "execution_count": 23,
      "metadata": {
        "colab": {
          "base_uri": "https://localhost:8080/"
        },
        "id": "OST_x01iCoLn",
        "outputId": "4bdeb883-5ae1-4422-e637-4ea437a1069b"
      },
      "outputs": [
        {
          "name": "stdout",
          "output_type": "stream",
          "text": [
            "Qual é a altura da pessoa? 1.82\n",
            "Qual é o sexo da pessoa ?  M/F \n",
            "M\n",
            "74.31\n"
          ]
        }
      ],
      "source": [
        "height,gender = float(input(\"Qual é a altura da pessoa? \")),(input(\"Qual é o sexo da pessoa ?  M/F \\n\"))\n",
        "\n",
        "if gender == \"M\":\n",
        "  idealMass = round((72.7*height)-58,2)\n",
        "else:\n",
        "  idealMass = round((62.7*height)-55.7,2)\n",
        "\n",
        "print(idealMass)"
      ]
    },
    {
      "cell_type": "markdown",
      "metadata": {
        "id": "Iw3HkTWtDpti"
      },
      "source": [
        "14. João Papo-de-Pescador, homem de bem, comprou um microcomputador para controlar o rendimento diário de\n",
        "seu trabalho. Toda vez que ele traz um peso de peixes maior que o estabelecido pelo regulamento de pesca do\n",
        "estado de São Paulo (50 quilos) deve pagar uma multa de R$ 4,00 por quilo excedente. João precisa que você\n",
        "faça um programa que leia a variável peso (peso de peixes) e verifique se há excesso. Se houver, gravar na\n",
        "variável excesso e na variável multa o valor da multa que João deverá pagar. Caso contrário mostrar tais\n",
        "variáveis com o conteúdo ZERO."
      ]
    },
    {
      "cell_type": "code",
      "execution_count": 28,
      "metadata": {
        "colab": {
          "base_uri": "https://localhost:8080/"
        },
        "id": "ALnrgPXQDswl",
        "outputId": "cbdcc1fa-60e0-4e6a-e625-a7c929e8a898"
      },
      "outputs": [
        {
          "name": "stdout",
          "output_type": "stream",
          "text": [
            "Informe a massa do peixe em Kg 20\n",
            "O regulamento foi respeitado não tendo penalidades, multa: R$0 e excesso: 0KG \n"
          ]
        }
      ],
      "source": [
        "fish_weight = float(input(\"Informe a massa do peixe em Kg \"))\n",
        "excesso = fish_weight - 50\n",
        "multa = 0\n",
        "\n",
        "if fish_weight > 50:\n",
        "  multa = excesso * 4\n",
        "  print(f\"O peso regulado foi ultrapassado por {excesso}Kg portanto, a multa será de R$ {multa} \")\n",
        "else:\n",
        "  multa = 0\n",
        "  excesso = 0\n",
        "  print(f\"O regulamento foi respeitado não tendo penalidades, multa: R${multa} e excesso: {excesso}KG \")"
      ]
    },
    {
      "cell_type": "markdown",
      "metadata": {
        "id": "sKpru7vUO-6g"
      },
      "source": [
        "15. Faça um Programa que pergunte quanto você ganha por hora e o número de horas trabalhadas no mês.\n",
        "Calcule e mostre o total do seu salário no referido mês, sabendo-se que são descontados 11% para o Imposto\n",
        "de Renda, 8% para o INSS e 5% para o sindicato, faça um programa que nos dê:\n",
        "* salário bruto.\n",
        "* quanto pagou ao INSS.\n",
        "* quanto pagou ao sindicato.\n",
        "* o salário líquido.\n",
        "> calcule os descontos e o salário líquido, conforme a tabela abaixo:\n",
        "\n",
        "\n",
        "\n"
      ]
    },
    {
      "cell_type": "code",
      "execution_count": 44,
      "metadata": {
        "colab": {
          "base_uri": "https://localhost:8080/"
        },
        "id": "mfkV2bfFPTO7",
        "outputId": "37235637-ab75-4b5f-b158-e93be5e26194"
      },
      "outputs": [
        {
          "name": "stdout",
          "output_type": "stream",
          "text": [
            "Quantas horas foram trabalhadas? 10\n",
            "Qual é o valor ganho por hora trabalhada? 100\n",
            "\n",
            " O salário bruto é : R$1000.0 \n",
            " ================\n",
            " Foram descontados pelo IR: R$110.0 \n",
            " pelo INSS : R$8.8 \n",
            " pelo Sindicato : R$0.44  \n",
            " ================\n",
            " O salário líquido ficou : R$880.76 \n"
          ]
        }
      ],
      "source": [
        "workTime = float(input(\"Quantas horas foram trabalhadas? \"))\n",
        "hourlyGains = float(input(\"Qual é o valor ganho por hora trabalhada? \"))\n",
        "\n",
        "payment = round(workTime * hourlyGains,2)\n",
        "IR = round((payment * 0.11),2)\n",
        "INSS = round((IR * 0.08),2)\n",
        "syndicate = round((INSS * 0.05),2)\n",
        "liquidSal = payment - IR - INSS - syndicate\n",
        "\n",
        "print(f\"\\n O salário bruto é : R${payment} \\n ================\\n Foram descontados pelo IR: R${IR} \\n pelo INSS : R${INSS} \\n pelo Sindicato : R${syndicate}  \\n ================\\n O salário líquido ficou : R${liquidSal} \")"
      ]
    },
    {
      "cell_type": "markdown",
      "metadata": {
        "id": "tvkNO7KxTYPg"
      },
      "source": [
        "16. Faça um programa para uma loja de tintas. O programa deverá pedir o tamanho em metros quadrados da área\n",
        "a ser pintada. Considere que a cobertura da tinta é de 1 litro para cada 3 metros quadrados e que a tinta é\n",
        "vendida em latas de 18 litros, que custam R$ 80,00. Informe ao usuário a quantidades de latas de tinta a serem\n",
        "compradas e o preço total."
      ]
    },
    {
      "cell_type": "code",
      "execution_count": 68,
      "metadata": {
        "colab": {
          "base_uri": "https://localhost:8080/"
        },
        "id": "pPsp86FJTX9j",
        "outputId": "ae51cf10-67ca-457b-9fa9-76115225315a"
      },
      "outputs": [
        {
          "name": "stdout",
          "output_type": "stream",
          "text": [
            "Qual é a area à ser pintada? 54\n",
            "O total de latas a serem compradas são : 1\n",
            "O custo total fica em : R$80 \n"
          ]
        }
      ],
      "source": [
        "import math\n",
        "area_to_paint = float(input(\"Qual é a area à ser pintada? \"))\n",
        "\n",
        "liters_used = area_to_paint/3\n",
        "can_size, can_price = 18,80\n",
        "\n",
        "cans_amount = math.ceil(liters_used/can_size)\n",
        "total_cost = cans_amount*can_price\n",
        "\n",
        "print(f\"O total de latas a serem compradas são : {cans_amount}\\nO custo total fica em : R${total_cost} \")\n",
        "\n"
      ]
    },
    {
      "cell_type": "markdown",
      "metadata": {
        "id": "6-jUHlFhWyb0"
      },
      "source": [
        "17. Faça um Programa para uma loja de tintas. O programa deverá pedir o tamanho em metros quadrados da área\n",
        "a ser pintada. Considere que a cobertura da tinta é de 1 litro para cada 6 metros quadrados e que a tinta é\n",
        "vendida em latas de 18 litros, que custam R$ 80,00 ou em galões de 3,6 litros, que custam R 25,00.\n",
        "Informe ao usuário as quantidades de tinta a serem compradas e os respectivos preços em 3 situações:\n",
        "* comprar apenas latas de 18 litros;\n",
        "* comprar apenas galões de 3,6 litros;\n",
        "* misturar latas e galões, de forma que o preço seja o menor. \n",
        ">Acrescente 10% de folga e sempre\n",
        "arredonde os valores para cima, isto é, considere latas cheias."
      ]
    },
    {
      "cell_type": "code",
      "execution_count": 140,
      "metadata": {
        "colab": {
          "base_uri": "https://localhost:8080/"
        },
        "id": "4GF6Ful1i5N8",
        "outputId": "ac5962aa-548b-4388-e77a-ca6a933212e9"
      },
      "outputs": [
        {
          "name": "stdout",
          "output_type": "stream",
          "text": [
            "Informe o tamanho da área a ser pintada : 123\n",
            "Quantidade de tinta a ser comprada:\n",
            "=========\n",
            "Apenas latas :\n",
            "2 latas \n",
            "Preço total: R$ 160 \n",
            "========= \n",
            "Apenas galões :\n",
            "7 galôes \n",
            "Preço total: R$ 175 \n",
            "=========\n",
            "Na opção misturada o total de latas é de 1 latas e 2 galões\n",
            "Preço total: R$ 130\n"
          ]
        }
      ],
      "source": [
        "import math\n",
        "\n",
        "square_meters = float(input(\"Informe o tamanho da área a ser pintada : \"))\n",
        "paint_liters = square_meters / 6 * 1.1 \n",
        "\n",
        "can_amount = math.ceil(paint_liters / 18)\n",
        "can_price = can_amount * 80\n",
        "\n",
        "galon_amount = math.ceil(paint_liters / 3.6)\n",
        "galon_price = galon_amount * 25\n",
        "\n",
        "can_amount_mix = int(paint_liters // 18) \n",
        "galon_mix = math.ceil((paint_liters % 18) / 3.6) \n",
        "mix_const = can_amount_mix * 80\n",
        "mix_const += galon_mix * 25 \n",
        "\n",
        "print(\"Quantidade de tinta a ser comprada:\\n=========\")\n",
        "print(f\"Apenas latas :\\n{can_amount} latas \\nPreço total: R$ {can_price} \\n========= \")\n",
        "print(f\"Apenas galões :\\n{galon_amount} galôes \\nPreço total: R$ {galon_price} \\n=========\")\n",
        "print(f\"Na opção misturada o total de latas é de {can_amount_mix} latas e {galon_mix} galões\\nPreço total: R$ {mix_const}\")"
      ]
    },
    {
      "cell_type": "markdown",
      "metadata": {
        "id": "i0m_ILQro1-J"
      },
      "source": [
        "18. Faça um programa que peça o tamanho de um arquivo para download (em MB) e a velocidade de um link de\n",
        "Internet (em Mbps), calcule e informe o tempo aproximado de download do arquivo usando este link (em\n",
        "minutos)."
      ]
    },
    {
      "cell_type": "code",
      "execution_count": 142,
      "metadata": {
        "colab": {
          "base_uri": "https://localhost:8080/"
        },
        "id": "kicC1MXokzlx",
        "outputId": "1ca9e95f-8010-4dc0-f67f-4f97d2b1a0e3"
      },
      "outputs": [
        {
          "name": "stdout",
          "output_type": "stream",
          "text": [
            "Qual o tamanho do arquivo em MB: 120\n",
            "Qual o velocidade da internet Mbps: 30\n",
            "O tempo aproximado é de0.53 minutos.\n"
          ]
        }
      ],
      "source": [
        "arch_size = float(input(\"Qual o tamanho do arquivo em MB: \"))\n",
        "internet_speed = float(input(\"Qual o velocidade da internet Mbps: \"))\n",
        "\n",
        "download_time = (arch_size / (internet_speed / 8)) / 60\n",
        " \n",
        "print(f\"O tempo aproximado é de {round(download_time, 2)} minutos.\")"
      ]
    }
  ],
  "metadata": {
    "colab": {
      "provenance": []
    },
    "kernelspec": {
      "display_name": "Python 3",
      "name": "python3"
    },
    "language_info": {
      "name": "python"
    }
  },
  "nbformat": 4,
  "nbformat_minor": 0
}
